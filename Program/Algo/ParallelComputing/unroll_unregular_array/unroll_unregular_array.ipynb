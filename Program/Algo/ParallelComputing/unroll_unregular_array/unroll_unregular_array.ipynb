{
 "cells": [
  {
   "cell_type": "code",
   "execution_count": 9,
   "metadata": {},
   "outputs": [
    {
     "name": "stdout",
     "output_type": "stream",
     "text": [
      "env: NUMBA_CUDA_LOW_OCCUPANCY_WARNINGS=0\n"
     ]
    }
   ],
   "source": [
    "%env NUMBA_CUDA_LOW_OCCUPANCY_WARNINGS=0\n",
    "import torch\n",
    "import numba.cuda as cu\n",
    "import matplotlib.pyplot as plt\n",
    "from flood import rightflood"
   ]
  },
  {
   "cell_type": "markdown",
   "metadata": {},
   "source": [
    "# 不规则数组的定义\n",
    "如果数组$A$为多维数组，且某个维度上的子数组长度不一致，则称它为**不规则数组**。\n",
    "\n",
    "例如以下二维数组为不规则数组，因为它的第0维上的子数组长度不一致，分别为$3,1,2$：\n",
    "\n",
    "$$\n",
    "\\left[\n",
    "\\begin{aligned}\n",
    "\t&[ 6, 5, 5    &] \\\\\n",
    "\t&[ 2          &] \\\\\n",
    "\t&[ 9, 9       &] \\\\\n",
    "\\end{aligned}\n",
    "\\right]\n",
    "$$\n",
    "\n",
    "在使用规则数组（张量）来表示不规则数组时，通常会采用以下形式，例如对不规则数组$C$有：\n",
    "\n",
    "$$\n",
    "C = \\begin{pmatrix}\n",
    "\tD^C & L^C\n",
    "\\end{pmatrix}\n",
    "$$\n",
    "\n",
    "其中$D^C$为数据数组，$L^C$为索引数组。\n",
    "\n",
    "假设索引从0开始，它们按照如下方式定义了不规则数组$C$：\n",
    "\n",
    "$$\n",
    "C_{ij} = D^C_{L^C_i + j} \\\\\n",
    "j < L^C_{i+1} - L^C_i\n",
    "$$\n",
    "\n",
    "设$C$的第0维的长度（子数组的数量）为$n^C$，\n",
    "则$L^C$为长度为$n^C+1$的1维向量，\n",
    "而$D^C$的第0维的长度为$L^C_{n^C}$。\n",
    "\n",
    "例如对上述的例子而言，有：\n",
    "\n",
    "$$\n",
    "\\begin{aligned}\n",
    "\n",
    "D^C &= [6,5,5,2,9,9] \\\\ \n",
    "L^C &= [0,    3,4,6] \\\\\n",
    "\n",
    "\\end{aligned}\n",
    "$$"
   ]
  },
  {
   "cell_type": "markdown",
   "metadata": {},
   "source": [
    "# 二维不规则数组的遍历\n",
    "本节中将省去上标$^C$以简化记号。\n",
    "\n",
    "设有二维不规则数组$C=(D, L)$："
   ]
  },
  {
   "cell_type": "code",
   "execution_count": 2,
   "metadata": {},
   "outputs": [
    {
     "name": "stdout",
     "output_type": "stream",
     "text": [
      "D = [6 5 5 2 9 9]\n",
      "L = [0 3 4 6]\n"
     ]
    }
   ],
   "source": [
    "D = torch.tensor([6,5,5,2,9,9])\n",
    "L = torch.tensor([0,3,4,6])\n",
    "\n",
    "print(f\"D = {D.cpu().numpy()}\")\n",
    "print(f\"L = {L.cpu().numpy()}\")"
   ]
  },
  {
   "cell_type": "markdown",
   "metadata": {},
   "source": [
    "我们现在想遍历$C_{ij}$，要求处理每个$C_{ij}$的时候都能知道其对应的$i$和$j$。\n",
    "\n",
    "那么显然要遍历$C_{ij}$，其实就是遍历$D_k$：\n",
    "\n",
    "``` python\n",
    "for i in range(n):\n",
    "  for k in range(L[i], L[i+1]):\n",
    "    j = k - L[i]\n",
    "    Process D[k] == C[i][j]\n",
    "```\n",
    "\n",
    "不过这种遍历方法的内层循环`for k in range(L[i], L[i+1])`是一个不定长循环（指定不同`i`时迭代次数不同），\n",
    "所以如果我开`n`个线程并行执行外层循环的话，由于内层循环的迭代次数不同，所以线程之间没法同步执行，从而也就不适合GPU实现。\n",
    "\n",
    "适合GPU的理想的遍历方法应该是：\n",
    "\n",
    "``` python\n",
    "for k in range(0, L[n]):\n",
    "  Decompose k into i, j\n",
    "  Process D[k] == C[i][j]\n",
    "```\n",
    "\n",
    "这里的问题是如何把`k`分解为`i`和`j`。"
   ]
  },
  {
   "cell_type": "markdown",
   "metadata": {},
   "source": [
    "我的解决方案是引入两个和$D$等长的辅助数组用于计算$i, j$：\n",
    "* $I$：$i = I_k$\n",
    "* $S$：$j = k - S_k$"
   ]
  },
  {
   "cell_type": "markdown",
   "metadata": {},
   "source": [
    "首先来看$I$的计算，它分为两步：\n",
    "\n",
    "1. 在$L_i$对应的位置填入$i$，即$I_{L_i} \\leftarrow i, i \\in [0, n)$。\n",
    "2. 对$I$进行[向右洪溢](https://zhuanlan.zhihu.com/p/583315932)，将上一步填入的数值扩散进整个数组中。"
   ]
  },
  {
   "cell_type": "code",
   "execution_count": 8,
   "metadata": {},
   "outputs": [
    {
     "name": "stdout",
     "output_type": "stream",
     "text": [
      "0. I = [0 0 0 0 0 0]\n",
      "1. I = [0 0 0 1 2 0]\n",
      "2. I = [0 0 0 1 2 2]\n"
     ]
    }
   ],
   "source": [
    "I = torch.zeros_like(D)\n",
    "print(f\"0. I = {I.cpu().numpy()}\")\n",
    "\n",
    "I.index_add_(dim=0, index=L[:-1], source=torch.arange(start=0, end=L.shape[0]-1), alpha=1)\n",
    "print(f\"1. I = {I.cpu().numpy()}\")\n",
    "\n",
    "I = rightflood(I)\n",
    "print(f\"2. I = {I.cpu().numpy()}\")"
   ]
  },
  {
   "cell_type": "markdown",
   "metadata": {},
   "source": [
    "$S$的计算也是类似的两步：\n",
    "\n",
    "1. 在$L_i$对应的位置填入$L_i$，即$S_{L_i} \\leftarrow L_i, i \\in [0, n)$。\n",
    "2. 对$S$进行[向右洪溢](https://zhuanlan.zhihu.com/p/583315932)，将上一步填入的数值扩散进整个数组中。"
   ]
  },
  {
   "cell_type": "code",
   "execution_count": 12,
   "metadata": {},
   "outputs": [
    {
     "name": "stdout",
     "output_type": "stream",
     "text": [
      "0. S = [0 0 0 0 0 0]\n",
      "1. S = [0 0 0 3 4 0]\n",
      "2. S = [0 0 0 3 4 4]\n"
     ]
    }
   ],
   "source": [
    "S = torch.zeros_like(D)\n",
    "print(f\"0. S = {S.cpu().numpy()}\")\n",
    "\n",
    "S.index_add_(dim=0, index=L[:-1], source=L[:-1], alpha=1)\n",
    "print(f\"1. S = {S.cpu().numpy()}\")\n",
    "\n",
    "S = rightflood(S)\n",
    "print(f\"2. S = {S.cpu().numpy()}\")"
   ]
  },
  {
   "cell_type": "markdown",
   "metadata": {},
   "source": [
    "于是可以对不规则数组$C$按如下方式进行遍历：\n",
    "\n",
    "``` python\n",
    "for k in range(0, L[n]):\n",
    "  i = I[k]\n",
    "  j = k - S[k]\n",
    "  Process D[k] == C[i][j]\n",
    "```\n",
    "\n",
    "例如如果我要将$C$中每个元素都设为$|i-j|$，即$C_{ij} \\leftarrow |i-j|$："
   ]
  },
  {
   "cell_type": "code",
   "execution_count": 16,
   "metadata": {},
   "outputs": [],
   "source": [
    "# Convenient function for CUDA\n",
    "block_size=512\n",
    "def cal_block_num(n):\n",
    "\treturn int((n-1)/block_size) + 1"
   ]
  },
  {
   "cell_type": "code",
   "execution_count": 18,
   "metadata": {},
   "outputs": [],
   "source": [
    "# Move to GPU\n",
    "D = D.to(device=\"cuda\")\n",
    "L = L.to(device=\"cuda\")\n",
    "I = I.to(device=\"cuda\")\n",
    "S = S.to(device=\"cuda\")"
   ]
  },
  {
   "cell_type": "code",
   "execution_count": 20,
   "metadata": {},
   "outputs": [
    {
     "name": "stdout",
     "output_type": "stream",
     "text": [
      "D = [0 1 2 1 2 1]\n"
     ]
    }
   ],
   "source": [
    "# Kernel Function\n",
    "@cu.jit\n",
    "def traverse(D, L, I, S):\n",
    "\tk = cu.grid(1)\n",
    "\tif k >= D.shape[0]:\n",
    "\t\treturn\n",
    "\ti = I[k]\n",
    "\tj = k - S[k]\n",
    "\tD[k] = abs(i-j)\n",
    "\n",
    "traverse[cal_block_num(D.shape[0]), block_size](D, L, I, S)\n",
    "print(f\"D = {D.cpu().numpy()}\")"
   ]
  },
  {
   "cell_type": "markdown",
   "metadata": {},
   "source": [
    "将其打印成二维不规则数组的样子："
   ]
  },
  {
   "cell_type": "code",
   "execution_count": 27,
   "metadata": {},
   "outputs": [
    {
     "name": "stdout",
     "output_type": "stream",
     "text": [
      "C = [\n",
      "  [ 0 1 2 ]\n",
      "  [ 1 ]\n",
      "  [ 2 1 ]\n",
      "]\n"
     ]
    }
   ],
   "source": [
    "print(\"C = [\")\n",
    "k = 0\n",
    "for i in range(L.shape[0]-1):\n",
    "\tprint(\"  [\", end=\" \")\n",
    "\tfor j in range(L[i], L[i+1]):\n",
    "\t\tprint(D[k].cpu().numpy(), end=\" \")\n",
    "\t\tk += 1\n",
    "\tprint(\"]\")\n",
    "print(\"]\")"
   ]
  },
  {
   "cell_type": "markdown",
   "metadata": {},
   "source": [
    "# 三维不规则数组的遍历\n",
    "如果一个不规则数组$C=(D^C, L^C)$在第1维上的每个元素$C_{ij}$都是长度不一致的一维数组的话，\n",
    "那么它就是一个三维不规则数组。\n",
    "\n",
    "例如一个三维不规则数组：\n",
    "\n",
    "$$\n",
    "\\begin{pmatrix}\n",
    "\t\\begin{pmatrix}\n",
    "\t\tC_{00} = \n",
    "\t\t\\begin{pmatrix}\n",
    "\t\t\t1 & 2 & 3\n",
    "\t\t\\end{pmatrix}\n",
    "\t\t\\\\\n",
    "\t\tC_{01} = \n",
    "\t\t\\begin{pmatrix}\n",
    "\t\t\t4 & 5\n",
    "\t\t\\end{pmatrix}\n",
    "\t\t\\\\\n",
    "\t\\end{pmatrix}\n",
    "\t\\\\\n",
    "\t\\begin{pmatrix}\n",
    "\t\tC_{10} = \n",
    "\t\t\\begin{pmatrix}\n",
    "\t\t\t6 & 7 & 8 & 9\n",
    "\t\t\\end{pmatrix}\n",
    "\t\t\\\\\n",
    "\t\tC_{11} = \n",
    "\t\t\\begin{pmatrix}\n",
    "\t\t\t10\n",
    "\t\t\\end{pmatrix}\n",
    "\t\t\\\\\n",
    "\t\tC_{12} = \n",
    "\t\t\\begin{pmatrix}\n",
    "\t\t\t11 & 12\n",
    "\t\t\\end{pmatrix}\n",
    "\t\t\\\\\n",
    "\t\tC_{13} = \n",
    "\t\t\\begin{pmatrix}\n",
    "\t\t\t13 & 14 & 15\n",
    "\t\t\\end{pmatrix}\n",
    "\t\t\\\\\n",
    "\t\\end{pmatrix}\n",
    "\\end{pmatrix}\n",
    "$$"
   ]
  },
  {
   "cell_type": "markdown",
   "metadata": {},
   "source": [
    "显然，此时$C$的第0维上的每个元素$C_i$都会是一个二维不规则数组：\n",
    "\n",
    "$$\n",
    "\\begin{pmatrix}\n",
    "\tC_{0} = \n",
    "\t\\begin{pmatrix}\n",
    "\t\t\\begin{pmatrix}\n",
    "\t\t\t1 & 2 & 3\n",
    "\t\t\\end{pmatrix}\n",
    "\t\t\\\\\n",
    "\t\t\\begin{pmatrix}\n",
    "\t\t\t4 & 5\n",
    "\t\t\\end{pmatrix}\n",
    "\t\t\\\\\n",
    "\t\\end{pmatrix}\n",
    "\t\\\\\n",
    "\tC_{1} = \n",
    "\t\\begin{pmatrix}\n",
    "\t\t\\begin{pmatrix}\n",
    "\t\t\t6 & 7 & 8 & 9\n",
    "\t\t\\end{pmatrix}\n",
    "\t\t\\\\\n",
    "\t\t\\begin{pmatrix}\n",
    "\t\t\t10\n",
    "\t\t\\end{pmatrix}\n",
    "\t\t\\\\\n",
    "\t\t\\begin{pmatrix}\n",
    "\t\t\t11 & 12\n",
    "\t\t\\end{pmatrix}\n",
    "\t\t\\\\\n",
    "\t\t\\begin{pmatrix}\n",
    "\t\t\t13 & 14 & 15\n",
    "\t\t\\end{pmatrix}\n",
    "\t\t\\\\\n",
    "\t\\end{pmatrix}\n",
    "\\end{pmatrix}\n",
    "$$\n"
   ]
  },
  {
   "cell_type": "markdown",
   "metadata": {},
   "source": [
    "**TODO**"
   ]
  }
 ],
 "metadata": {
  "kernelspec": {
   "display_name": "Python 3.10.7 64-bit",
   "language": "python",
   "name": "python3"
  },
  "language_info": {
   "codemirror_mode": {
    "name": "ipython",
    "version": 3
   },
   "file_extension": ".py",
   "mimetype": "text/x-python",
   "name": "python",
   "nbconvert_exporter": "python",
   "pygments_lexer": "ipython3",
   "version": "3.10.7"
  },
  "orig_nbformat": 4,
  "vscode": {
   "interpreter": {
    "hash": "b3fe913025a11cd14e3484db9f473dbf9918deb123aa416d8470ecc213ea8ab7"
   }
  }
 },
 "nbformat": 4,
 "nbformat_minor": 2
}
