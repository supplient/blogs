{
 "cells": [
  {
   "cell_type": "code",
   "execution_count": 1,
   "metadata": {},
   "outputs": [],
   "source": [
    "from sympy import *\n",
    "from IPython.display import Math\n",
    "init_printing(use_latex=\"mathjax\", latex_mode=\"equation\")"
   ]
  },
  {
   "cell_type": "code",
   "execution_count": 2,
   "metadata": {},
   "outputs": [],
   "source": [
    "x, y, z = symbols(\"x y z\", real=True)"
   ]
  },
  {
   "attachments": {},
   "cell_type": "markdown",
   "metadata": {},
   "source": [
    "# 边值问题"
   ]
  },
  {
   "cell_type": "code",
   "execution_count": 3,
   "metadata": {},
   "outputs": [
    {
     "data": {
      "text/latex": [
       "\\begin{equation}- \\frac{d^{2}}{d x^{2}} u{\\left(x \\right)} = 2\\end{equation}"
      ],
      "text/plain": [
       "   2          \n",
       "  d           \n",
       "-───(u(x)) = 2\n",
       "   2          \n",
       " dx           "
      ]
     },
     "metadata": {},
     "output_type": "display_data"
    },
    {
     "data": {
      "text/latex": [
       "\\begin{equation}u{\\left(0 \\right)} = 0\\end{equation}"
      ],
      "text/plain": [
       "u(0) = 0"
      ]
     },
     "metadata": {},
     "output_type": "display_data"
    },
    {
     "data": {
      "text/latex": [
       "\\begin{equation}\\left. \\frac{d}{d x} u{\\left(x \\right)} \\right|_{\\substack{ x=1 }} = 0\\end{equation}"
      ],
      "text/plain": [
       "⎛d       ⎞│       \n",
       "⎜──(u(x))⎟│    = 0\n",
       "⎝dx      ⎠│x=1    "
      ]
     },
     "metadata": {},
     "output_type": "display_data"
    }
   ],
   "source": [
    "u = Function(\"u\")\n",
    "ode = Eq(-diff(u(x), x, x), 2)\n",
    "ics = {\n",
    "\tu(x).subs(x, 0): 0,\n",
    "\tu(x).diff(x).subs(x, 1): 0,\n",
    "}\n",
    "\n",
    "display(ode)\n",
    "for ic in [Eq(lh, rh) for lh, rh in ics.items()]:\n",
    "\tdisplay(ic)"
   ]
  },
  {
   "attachments": {},
   "cell_type": "markdown",
   "metadata": {},
   "source": [
    "# 精确解"
   ]
  },
  {
   "cell_type": "code",
   "execution_count": 4,
   "metadata": {},
   "outputs": [
    {
     "data": {
      "text/latex": [
       "\\begin{equation}u{\\left(x \\right)} = - x^{2} + 2 x\\end{equation}"
      ],
      "text/plain": [
       "          2      \n",
       "u(x) = - x  + 2⋅x"
      ]
     },
     "metadata": {},
     "output_type": "display_data"
    }
   ],
   "source": [
    "import sympy.solvers.ode\n",
    "exact_sol = sympy.solvers.ode.dsolve(\n",
    "\teq = ode,\n",
    "\tfunc = u(x),\n",
    "\tics = ics\n",
    ").args[1]\n",
    "display(Eq(u(x), exact_sol))"
   ]
  },
  {
   "attachments": {},
   "cell_type": "markdown",
   "metadata": {},
   "source": [
    "# 使用三角函数做试空间的基的伽辽金法"
   ]
  },
  {
   "attachments": {},
   "cell_type": "markdown",
   "metadata": {},
   "source": [
    "基函数"
   ]
  },
  {
   "cell_type": "code",
   "execution_count": 5,
   "metadata": {},
   "outputs": [
    {
     "data": {
      "text/latex": [
       "\\begin{equation}\\phi_{1} = \\sin{\\left(\\frac{\\pi x}{2} \\right)}\\end{equation}"
      ],
      "text/plain": [
       "        ⎛π⋅x⎞\n",
       "φ₁ = sin⎜───⎟\n",
       "        ⎝ 2 ⎠"
      ]
     },
     "metadata": {},
     "output_type": "display_data"
    },
    {
     "data": {
      "text/latex": [
       "\\begin{equation}\\phi_{2} = \\sin{\\left(\\frac{3 \\pi x}{2} \\right)}\\end{equation}"
      ],
      "text/plain": [
       "        ⎛3⋅π⋅x⎞\n",
       "φ₂ = sin⎜─────⎟\n",
       "        ⎝  2  ⎠"
      ]
     },
     "metadata": {},
     "output_type": "display_data"
    }
   ],
   "source": [
    "phi_sym = symbols(\"phi_1 phi_2\")\n",
    "phi = [\n",
    "\tsin(Rational(1, 2) * pi * x),\n",
    "\tsin(Rational(3, 2) * pi * x)\n",
    "]\n",
    "\n",
    "for i in range(2):\n",
    "\tdisplay(Eq(phi_sym[i], phi[i]))"
   ]
  },
  {
   "attachments": {},
   "cell_type": "markdown",
   "metadata": {},
   "source": [
    "弱形式"
   ]
  },
  {
   "cell_type": "code",
   "execution_count": 6,
   "metadata": {},
   "outputs": [
    {
     "data": {
      "text/latex": [
       "\\begin{equation}a{\\left(u,v \\right)} = \\int\\limits_{0}^{1} \\frac{d}{d x} u{\\left(x \\right)} \\frac{d}{d x} v{\\left(x \\right)}\\, dx\\end{equation}"
      ],
      "text/plain": [
       "          1                     \n",
       "          ⌠                     \n",
       "          ⎮ d        d          \n",
       "a(u, v) = ⎮ ──(u(x))⋅──(v(x)) dx\n",
       "          ⎮ dx       dx         \n",
       "          ⌡                     \n",
       "          0                     "
      ]
     },
     "metadata": {},
     "output_type": "display_data"
    },
    {
     "data": {
      "text/latex": [
       "\\begin{equation}L{\\left(v \\right)} = 2 \\int\\limits_{0}^{1} v{\\left(x \\right)}\\, dx\\end{equation}"
      ],
      "text/plain": [
       "         1        \n",
       "         ⌠        \n",
       "L(v) = 2⋅⎮ v(x) dx\n",
       "         ⌡        \n",
       "         0        "
      ]
     },
     "metadata": {},
     "output_type": "display_data"
    }
   ],
   "source": [
    "v = Function(\"v\")\n",
    "a = integrate(u(x).diff(x) * v(x).diff(x), (x, 0, 1))\n",
    "L = 2 * integrate(v(x), (x, 0, 1))\n",
    "\n",
    "display(Eq(sympify(\"a(u,v)\"), a))\n",
    "display(Eq(sympify(\"L(v)\"), L))"
   ]
  },
  {
   "attachments": {},
   "cell_type": "markdown",
   "metadata": {},
   "source": [
    "因为$V$构成有限维线性空间，因此：\n",
    "\n",
    "$$\n",
    "\\begin{aligned}\n",
    "a(u,v) &= L(v) \\\\\n",
    "\\Leftrightarrow \\sum_i c_i a(\\phi_i, \\phi_j) &= L(\\phi_j), \\quad j = 1,2 \\\\\n",
    "\\end{aligned}\n",
    "$$"
   ]
  },
  {
   "cell_type": "code",
   "execution_count": 7,
   "metadata": {},
   "outputs": [
    {
     "data": {
      "text/latex": [
       "\\begin{equation}\\frac{\\pi^{2} c_{1}}{8} = \\frac{4}{\\pi}\\end{equation}"
      ],
      "text/plain": [
       " 2       \n",
       "π ⋅c₁   4\n",
       "───── = ─\n",
       "  8     π"
      ]
     },
     "metadata": {},
     "output_type": "display_data"
    },
    {
     "data": {
      "text/latex": [
       "\\begin{equation}\\frac{9 \\pi^{2} c_{2}}{8} = \\frac{4}{3 \\pi}\\end{equation}"
      ],
      "text/plain": [
       "   2         \n",
       "9⋅π ⋅c₂    4 \n",
       "─────── = ───\n",
       "   8      3⋅π"
      ]
     },
     "metadata": {},
     "output_type": "display_data"
    }
   ],
   "source": [
    "c = symbols(\"c_1 c_2\")\n",
    "eqs = []\n",
    "for j in range(2):\n",
    "\tlhr = sympify(0)\n",
    "\tfor i in range(2):\n",
    "\t\tlhr += c[i] * simplify(a.subs(u(x), phi[i]).subs(v(x), phi[j]))\n",
    "\trhr = L.subs(v(x), phi[j]).subs(v(1), phi[j].subs(x, 1))\n",
    "\n",
    "\tlhr = simplify(lhr)\n",
    "\trhr = simplify(rhr)\n",
    "\n",
    "\t# display(lhr)\n",
    "\t# display(rhr)\n",
    "\n",
    "\teq = Eq(lhr, rhr)\n",
    "\teqs.append(eq)\n",
    "\tdisplay(eq)"
   ]
  },
  {
   "attachments": {},
   "cell_type": "markdown",
   "metadata": {},
   "source": [
    "求解弱形式"
   ]
  },
  {
   "cell_type": "code",
   "execution_count": 8,
   "metadata": {},
   "outputs": [
    {
     "data": {
      "text/latex": [
       "\\begin{equation}\\left\\{ c_{1} : \\frac{32}{\\pi^{3}}, \\  c_{2} : \\frac{32}{27 \\pi^{3}}\\right\\}\\end{equation}"
      ],
      "text/plain": [
       "⎧    32        32 ⎫\n",
       "⎪c₁: ──, c₂: ─────⎪\n",
       "⎨     3          3⎬\n",
       "⎪    π       27⋅π ⎪\n",
       "⎩                 ⎭"
      ]
     },
     "metadata": {},
     "output_type": "display_data"
    }
   ],
   "source": [
    "sol = solve(eqs, c)\n",
    "display(sol)"
   ]
  },
  {
   "cell_type": "code",
   "execution_count": 9,
   "metadata": {},
   "outputs": [
    {
     "data": {
      "text/latex": [
       "\\begin{equation}u = \\frac{32 \\sin{\\left(\\frac{\\pi x}{2} \\right)}}{\\pi^{3}} + \\frac{32 \\sin{\\left(\\frac{3 \\pi x}{2} \\right)}}{27 \\pi^{3}}\\end{equation}"
      ],
      "text/plain": [
       "          ⎛π⋅x⎞         ⎛3⋅π⋅x⎞\n",
       "    32⋅sin⎜───⎟   32⋅sin⎜─────⎟\n",
       "          ⎝ 2 ⎠         ⎝  2  ⎠\n",
       "u = ─────────── + ─────────────\n",
       "          3               3    \n",
       "         π            27⋅π     "
      ]
     },
     "metadata": {},
     "output_type": "display_data"
    }
   ],
   "source": [
    "sin_sol = sum([sol[c[i]]*phi[i] for i in range(2)])\n",
    "display(Eq(sympify(\"u\"), sin_sol))"
   ]
  },
  {
   "attachments": {},
   "cell_type": "markdown",
   "metadata": {},
   "source": [
    "检验是否满足变分形式$(R,v)=0$和边界条件"
   ]
  },
  {
   "cell_type": "code",
   "execution_count": 10,
   "metadata": {},
   "outputs": [
    {
     "data": {
      "text/latex": [
       "\\begin{equation}R = - \\frac{8 \\cdot \\left(3 \\sin{\\left(\\frac{\\pi x}{2} \\right)} + \\sin{\\left(\\frac{3 \\pi x}{2} \\right)}\\right)}{3 \\pi} + 2\\end{equation}"
      ],
      "text/plain": [
       "        ⎛     ⎛π⋅x⎞      ⎛3⋅π⋅x⎞⎞    \n",
       "      8⋅⎜3⋅sin⎜───⎟ + sin⎜─────⎟⎟    \n",
       "        ⎝     ⎝ 2 ⎠      ⎝  2  ⎠⎠    \n",
       "R = - ─────────────────────────── + 2\n",
       "                  3⋅π                "
      ]
     },
     "metadata": {},
     "output_type": "display_data"
    }
   ],
   "source": [
    "R_sym = symbols(\"R\")\n",
    "R = simplify((ode.args[1] - ode.args[0]).subs(u(x), sin_sol))\n",
    "display(Eq(R_sym, R))"
   ]
  },
  {
   "cell_type": "code",
   "execution_count": 11,
   "metadata": {},
   "outputs": [
    {
     "data": {
      "text/latex": [
       "$\\displaystyle (R, \\phi_1) = 0$"
      ],
      "text/plain": [
       "<IPython.core.display.Math object>"
      ]
     },
     "metadata": {},
     "output_type": "display_data"
    },
    {
     "data": {
      "text/latex": [
       "$\\displaystyle (R, \\phi_2) = 0$"
      ],
      "text/plain": [
       "<IPython.core.display.Math object>"
      ]
     },
     "metadata": {},
     "output_type": "display_data"
    }
   ],
   "source": [
    "for i in range(len(phi)):\n",
    "\tvar_form = integrate(\n",
    "\t\tR * phi[i],\n",
    "\t\t(x, 0, 1)\n",
    "\t)\n",
    "\tdisplay(Math(f\"(R, \\\\phi_{i+1}) = \" + latex(var_form)))"
   ]
  },
  {
   "cell_type": "code",
   "execution_count": 12,
   "metadata": {},
   "outputs": [
    {
     "data": {
      "text/latex": [
       "\\begin{equation}u{\\left(0 \\right)} = 0\\end{equation}"
      ],
      "text/plain": [
       "u(0) = 0"
      ]
     },
     "metadata": {},
     "output_type": "display_data"
    }
   ],
   "source": [
    "u_0_val = sin_sol.subs(x, 0)\n",
    "display(Eq(u(0), u_0_val))"
   ]
  },
  {
   "cell_type": "code",
   "execution_count": 13,
   "metadata": {},
   "outputs": [
    {
     "data": {
      "text/latex": [
       "\\begin{equation}\\left. \\frac{d}{d x} u{\\left(x \\right)} \\right|_{\\substack{ x=1 }} = 0\\end{equation}"
      ],
      "text/plain": [
       "⎛d       ⎞│       \n",
       "⎜──(u(x))⎟│    = 0\n",
       "⎝dx      ⎠│x=1    "
      ]
     },
     "metadata": {},
     "output_type": "display_data"
    }
   ],
   "source": [
    "du_1_val = sin_sol.diff(x).subs(x, 1)\n",
    "display(Eq(u(x).diff(x).subs(x, 1), du_1_val))"
   ]
  },
  {
   "attachments": {},
   "cell_type": "markdown",
   "metadata": {},
   "source": [
    "# 使用有限元基函数的伽辽金法"
   ]
  },
  {
   "attachments": {},
   "cell_type": "markdown",
   "metadata": {},
   "source": [
    "均匀剖分$[0,1]$"
   ]
  },
  {
   "cell_type": "code",
   "execution_count": 14,
   "metadata": {},
   "outputs": [],
   "source": [
    "N = 8\n",
    "h = Rational(1, N)"
   ]
  },
  {
   "attachments": {},
   "cell_type": "markdown",
   "metadata": {},
   "source": [
    "有限元基函数"
   ]
  },
  {
   "cell_type": "code",
   "execution_count": 15,
   "metadata": {},
   "outputs": [
    {
     "data": {
      "text/latex": [
       "\\begin{equation}\\phi_{1} = \\begin{cases} 8 x + 1 & \\text{for}\\: x \\geq - \\frac{1}{8} \\wedge x < 0 \\\\1 - 8 x & \\text{for}\\: x \\geq 0 \\wedge x < \\frac{1}{8} \\\\0 & \\text{otherwise} \\end{cases}\\end{equation}"
      ],
      "text/plain": [
       "     ⎧8⋅x + 1  for x ≥ -1/8 ∧ x < 0\n",
       "     ⎪                             \n",
       "φ₁ = ⎨1 - 8⋅x  for x ≥ 0 ∧ x < 1/8 \n",
       "     ⎪                             \n",
       "     ⎩   0          otherwise      "
      ]
     },
     "metadata": {},
     "output_type": "display_data"
    },
    {
     "data": {
      "text/latex": [
       "\\begin{equation}\\phi_{2} = \\begin{cases} 8 x & \\text{for}\\: x \\geq 0 \\wedge x < \\frac{1}{8} \\\\2 - 8 x & \\text{for}\\: x \\geq \\frac{1}{8} \\wedge x < \\frac{1}{4} \\\\0 & \\text{otherwise} \\end{cases}\\end{equation}"
      ],
      "text/plain": [
       "     ⎧  8⋅x     for x ≥ 0 ∧ x < 1/8 \n",
       "     ⎪                              \n",
       "φ₂ = ⎨2 - 8⋅x  for x ≥ 1/8 ∧ x < 1/4\n",
       "     ⎪                              \n",
       "     ⎩   0           otherwise      "
      ]
     },
     "metadata": {},
     "output_type": "display_data"
    },
    {
     "data": {
      "text/latex": [
       "\\begin{equation}\\phi_{3} = \\begin{cases} 8 x - 1 & \\text{for}\\: x \\geq \\frac{1}{8} \\wedge x < \\frac{1}{4} \\\\3 - 8 x & \\text{for}\\: x \\geq \\frac{1}{4} \\wedge x < \\frac{3}{8} \\\\0 & \\text{otherwise} \\end{cases}\\end{equation}"
      ],
      "text/plain": [
       "     ⎧8⋅x - 1  for x ≥ 1/8 ∧ x < 1/4\n",
       "     ⎪                              \n",
       "φ₃ = ⎨3 - 8⋅x  for x ≥ 1/4 ∧ x < 3/8\n",
       "     ⎪                              \n",
       "     ⎩   0           otherwise      "
      ]
     },
     "metadata": {},
     "output_type": "display_data"
    },
    {
     "data": {
      "text/latex": [
       "\\begin{equation}\\phi_{4} = \\begin{cases} 8 x - 2 & \\text{for}\\: x \\geq \\frac{1}{4} \\wedge x < \\frac{3}{8} \\\\4 - 8 x & \\text{for}\\: x \\geq \\frac{3}{8} \\wedge x < \\frac{1}{2} \\\\0 & \\text{otherwise} \\end{cases}\\end{equation}"
      ],
      "text/plain": [
       "     ⎧8⋅x - 2  for x ≥ 1/4 ∧ x < 3/8\n",
       "     ⎪                              \n",
       "φ₄ = ⎨4 - 8⋅x  for x ≥ 3/8 ∧ x < 1/2\n",
       "     ⎪                              \n",
       "     ⎩   0           otherwise      "
      ]
     },
     "metadata": {},
     "output_type": "display_data"
    },
    {
     "data": {
      "text/latex": [
       "\\begin{equation}\\phi_{5} = \\begin{cases} 8 x - 3 & \\text{for}\\: x \\geq \\frac{3}{8} \\wedge x < \\frac{1}{2} \\\\5 - 8 x & \\text{for}\\: x \\geq \\frac{1}{2} \\wedge x < \\frac{5}{8} \\\\0 & \\text{otherwise} \\end{cases}\\end{equation}"
      ],
      "text/plain": [
       "     ⎧8⋅x - 3  for x ≥ 3/8 ∧ x < 1/2\n",
       "     ⎪                              \n",
       "φ₅ = ⎨5 - 8⋅x  for x ≥ 1/2 ∧ x < 5/8\n",
       "     ⎪                              \n",
       "     ⎩   0           otherwise      "
      ]
     },
     "metadata": {},
     "output_type": "display_data"
    },
    {
     "data": {
      "text/latex": [
       "\\begin{equation}\\phi_{6} = \\begin{cases} 8 x - 4 & \\text{for}\\: x \\geq \\frac{1}{2} \\wedge x < \\frac{5}{8} \\\\6 - 8 x & \\text{for}\\: x \\geq \\frac{5}{8} \\wedge x < \\frac{3}{4} \\\\0 & \\text{otherwise} \\end{cases}\\end{equation}"
      ],
      "text/plain": [
       "     ⎧8⋅x - 4  for x ≥ 1/2 ∧ x < 5/8\n",
       "     ⎪                              \n",
       "φ₆ = ⎨6 - 8⋅x  for x ≥ 5/8 ∧ x < 3/4\n",
       "     ⎪                              \n",
       "     ⎩   0           otherwise      "
      ]
     },
     "metadata": {},
     "output_type": "display_data"
    },
    {
     "data": {
      "text/latex": [
       "\\begin{equation}\\phi_{7} = \\begin{cases} 8 x - 5 & \\text{for}\\: x \\geq \\frac{5}{8} \\wedge x < \\frac{3}{4} \\\\7 - 8 x & \\text{for}\\: x \\geq \\frac{3}{4} \\wedge x < \\frac{7}{8} \\\\0 & \\text{otherwise} \\end{cases}\\end{equation}"
      ],
      "text/plain": [
       "     ⎧8⋅x - 5  for x ≥ 5/8 ∧ x < 3/4\n",
       "     ⎪                              \n",
       "φ₇ = ⎨7 - 8⋅x  for x ≥ 3/4 ∧ x < 7/8\n",
       "     ⎪                              \n",
       "     ⎩   0           otherwise      "
      ]
     },
     "metadata": {},
     "output_type": "display_data"
    },
    {
     "data": {
      "text/latex": [
       "\\begin{equation}\\phi_{8} = \\begin{cases} 8 x - 6 & \\text{for}\\: x \\geq \\frac{3}{4} \\wedge x < \\frac{7}{8} \\\\8 - 8 x & \\text{for}\\: x \\geq \\frac{7}{8} \\wedge x < 1 \\\\0 & \\text{otherwise} \\end{cases}\\end{equation}"
      ],
      "text/plain": [
       "     ⎧8⋅x - 6  for x ≥ 3/4 ∧ x < 7/8\n",
       "     ⎪                              \n",
       "φ₈ = ⎨8 - 8⋅x   for x ≥ 7/8 ∧ x < 1 \n",
       "     ⎪                              \n",
       "     ⎩   0           otherwise      "
      ]
     },
     "metadata": {},
     "output_type": "display_data"
    },
    {
     "data": {
      "text/latex": [
       "\\begin{equation}\\phi_{9} = \\begin{cases} 8 x - 7 & \\text{for}\\: x \\geq \\frac{7}{8} \\wedge x < 1 \\\\9 - 8 x & \\text{for}\\: x \\geq 1 \\wedge x < \\frac{9}{8} \\\\0 & \\text{otherwise} \\end{cases}\\end{equation}"
      ],
      "text/plain": [
       "     ⎧8⋅x - 7  for x ≥ 7/8 ∧ x < 1\n",
       "     ⎪                            \n",
       "φ₉ = ⎨9 - 8⋅x  for x ≥ 1 ∧ x < 9/8\n",
       "     ⎪                            \n",
       "     ⎩   0          otherwise     "
      ]
     },
     "metadata": {},
     "output_type": "display_data"
    }
   ],
   "source": [
    "phi = []\n",
    "i_sym = symbols(\"i\")\n",
    "def x_i(i):\n",
    "\treturn Rational(i, N)\n",
    "for i in range(N+1):\n",
    "\tphi.append(Piecewise(\n",
    "\t\t(Rational(1,  h) * x - Rational(x_i(i-1),  h), (x_i(i-1)<= x) & (x<x_i(i  ))),\n",
    "\t\t(Rational(1, -h) * x - Rational(x_i(i+1), -h), (x_i(i  )<=x) & (x<x_i(i+1))),\n",
    "\t\t(0, True)\n",
    "\t))\n",
    "\n",
    "for i in range(N+1):\n",
    "\tdisplay(Eq(sympify(f\"phi_{i+1}\"), phi[i]))"
   ]
  },
  {
   "attachments": {},
   "cell_type": "markdown",
   "metadata": {},
   "source": [
    "逐单元$e_i$累加计算$a_{ij} = a(\\phi_i, \\phi_j), L_i = L(\\phi_i)$"
   ]
  },
  {
   "cell_type": "code",
   "execution_count": 16,
   "metadata": {},
   "outputs": [
    {
     "data": {
      "text/latex": [
       "\\begin{equation}\\left[ \\left[ 8, \\  -8, \\  0, \\  0, \\  0, \\  0, \\  0, \\  0, \\  0\\right], \\  \\left[ -8, \\  16, \\  -8, \\  0, \\  0, \\  0, \\  0, \\  0, \\  0\\right], \\  \\left[ 0, \\  -8, \\  16, \\  -8, \\  0, \\  0, \\  0, \\  0, \\  0\\right], \\  \\left[ 0, \\  0, \\  -8, \\  16, \\  -8, \\  0, \\  0, \\  0, \\  0\\right], \\  \\left[ 0, \\  0, \\  0, \\  -8, \\  16, \\  -8, \\  0, \\  0, \\  0\\right], \\  \\left[ 0, \\  0, \\  0, \\  0, \\  -8, \\  16, \\  -8, \\  0, \\  0\\right], \\  \\left[ 0, \\  0, \\  0, \\  0, \\  0, \\  -8, \\  16, \\  -8, \\  0\\right], \\  \\left[ 0, \\  0, \\  0, \\  0, \\  0, \\  0, \\  -8, \\  16, \\  -8\\right], \\  \\left[ 0, \\  0, \\  0, \\  0, \\  0, \\  0, \\  0, \\  -8, \\  8\\right]\\right]\\end{equation}"
      ],
      "text/plain": [
       "[[8, -8, 0, 0, 0, 0, 0, 0, 0], [-8, 16, -8, 0, 0, 0, 0, 0, 0], [0, -8, 16, -8,\n",
       " 0, 0, 0, 0, 0], [0, 0, -8, 16, -8, 0, 0, 0, 0], [0, 0, 0, -8, 16, -8, 0, 0, 0\n",
       "], [0, 0, 0, 0, -8, 16, -8, 0, 0], [0, 0, 0, 0, 0, -8, 16, -8, 0], [0, 0, 0, 0\n",
       ", 0, 0, -8, 16, -8], [0, 0, 0, 0, 0, 0, 0, -8, 8]]"
      ]
     },
     "metadata": {},
     "output_type": "display_data"
    },
    {
     "data": {
      "text/latex": [
       "\\begin{equation}\\left[ \\frac{1}{8}, \\  \\frac{1}{4}, \\  \\frac{1}{4}, \\  \\frac{1}{4}, \\  \\frac{1}{4}, \\  \\frac{1}{4}, \\  \\frac{1}{4}, \\  \\frac{1}{4}, \\  \\frac{1}{8}\\right]\\end{equation}"
      ],
      "text/plain": [
       "[1/8, 1/4, 1/4, 1/4, 1/4, 1/4, 1/4, 1/4, 1/8]"
      ]
     },
     "metadata": {},
     "output_type": "display_data"
    }
   ],
   "source": [
    "a = []\n",
    "for i in range(N+1):\n",
    "\trow = []\n",
    "\tfor j in range(N+1):\n",
    "\t\trow.append(0)\n",
    "\ta.append(row)\n",
    "L = [0] * (N+1)\n",
    "\n",
    "for i in range(N):\n",
    "\ta[i][i] += Rational(1, h)\n",
    "\ta[i][i+1] += Rational(1, -h)\n",
    "\ta[i+1][i] += Rational(1, -h)\n",
    "\ta[i+1][i+1] += Rational(1, h)\n",
    "\n",
    "\tL[i] += h\n",
    "\tL[i+1] += h\n",
    "\n",
    "display(a)\n",
    "display(L)"
   ]
  },
  {
   "attachments": {},
   "cell_type": "markdown",
   "metadata": {},
   "source": [
    "构造弱形式方程组$\\sum c_i a(\\phi_i, \\phi_j) = L(\\phi_j), \\forall j$\n",
    "\n",
    "并用边界条件$c_0=0, c_N=0$替换方程组中的第0行和第N行"
   ]
  },
  {
   "cell_type": "code",
   "execution_count": 17,
   "metadata": {},
   "outputs": [
    {
     "data": {
      "text/latex": [
       "\\begin{equation}c_{0} = 0\\end{equation}"
      ],
      "text/plain": [
       "c₀ = 0"
      ]
     },
     "metadata": {},
     "output_type": "display_data"
    },
    {
     "data": {
      "text/latex": [
       "\\begin{equation}- 8 c_{0} + 16 c_{1} - 8 c_{2} = \\frac{1}{4}\\end{equation}"
      ],
      "text/plain": [
       "-8⋅c₀ + 16⋅c₁ - 8⋅c₂ = 1/4"
      ]
     },
     "metadata": {},
     "output_type": "display_data"
    },
    {
     "data": {
      "text/latex": [
       "\\begin{equation}- 8 c_{1} + 16 c_{2} - 8 c_{3} = \\frac{1}{4}\\end{equation}"
      ],
      "text/plain": [
       "-8⋅c₁ + 16⋅c₂ - 8⋅c₃ = 1/4"
      ]
     },
     "metadata": {},
     "output_type": "display_data"
    },
    {
     "data": {
      "text/latex": [
       "\\begin{equation}- 8 c_{2} + 16 c_{3} - 8 c_{4} = \\frac{1}{4}\\end{equation}"
      ],
      "text/plain": [
       "-8⋅c₂ + 16⋅c₃ - 8⋅c₄ = 1/4"
      ]
     },
     "metadata": {},
     "output_type": "display_data"
    },
    {
     "data": {
      "text/latex": [
       "\\begin{equation}- 8 c_{3} + 16 c_{4} - 8 c_{5} = \\frac{1}{4}\\end{equation}"
      ],
      "text/plain": [
       "-8⋅c₃ + 16⋅c₄ - 8⋅c₅ = 1/4"
      ]
     },
     "metadata": {},
     "output_type": "display_data"
    },
    {
     "data": {
      "text/latex": [
       "\\begin{equation}- 8 c_{4} + 16 c_{5} - 8 c_{6} = \\frac{1}{4}\\end{equation}"
      ],
      "text/plain": [
       "-8⋅c₄ + 16⋅c₅ - 8⋅c₆ = 1/4"
      ]
     },
     "metadata": {},
     "output_type": "display_data"
    },
    {
     "data": {
      "text/latex": [
       "\\begin{equation}- 8 c_{5} + 16 c_{6} - 8 c_{7} = \\frac{1}{4}\\end{equation}"
      ],
      "text/plain": [
       "-8⋅c₅ + 16⋅c₆ - 8⋅c₇ = 1/4"
      ]
     },
     "metadata": {},
     "output_type": "display_data"
    },
    {
     "data": {
      "text/latex": [
       "\\begin{equation}- 8 c_{6} + 16 c_{7} - 8 c_{8} = \\frac{1}{4}\\end{equation}"
      ],
      "text/plain": [
       "-8⋅c₆ + 16⋅c₇ - 8⋅c₈ = 1/4"
      ]
     },
     "metadata": {},
     "output_type": "display_data"
    },
    {
     "data": {
      "text/latex": [
       "\\begin{equation}c_{8} = 0\\end{equation}"
      ],
      "text/plain": [
       "c₈ = 0"
      ]
     },
     "metadata": {},
     "output_type": "display_data"
    }
   ],
   "source": [
    "c = symbols(f\"c0:{N+1}\")\n",
    "eqs = []\n",
    "for j in range(1, N):\n",
    "\tlhr = 0\n",
    "\tfor i in range(N+1):\n",
    "\t\tlhr += c[i] * a[i][j]\n",
    "\trhr = L[j]\n",
    "\n",
    "\tlhr = simplify(lhr)\n",
    "\trhr = simplify(rhr)\n",
    "\n",
    "\teq = Eq(lhr, rhr)\n",
    "\teqs.append(eq)\n",
    "\n",
    "eq = Eq(c[0], 0)\n",
    "eqs.insert(0, eq)\n",
    "\n",
    "eq = Eq(c[N], 0)\n",
    "eqs.append(eq)\n",
    "\n",
    "for eq in eqs:\n",
    "\tdisplay(eq)"
   ]
  },
  {
   "attachments": {},
   "cell_type": "markdown",
   "metadata": {},
   "source": [
    "求解弱形式方程组"
   ]
  },
  {
   "cell_type": "code",
   "execution_count": 18,
   "metadata": {},
   "outputs": [
    {
     "data": {
      "text/latex": [
       "\\begin{equation}\\left\\{ c_{0} : 0, \\  c_{1} : \\frac{7}{64}, \\  c_{2} : \\frac{3}{16}, \\  c_{3} : \\frac{15}{64}, \\  c_{4} : \\frac{1}{4}, \\  c_{5} : \\frac{15}{64}, \\  c_{6} : \\frac{3}{16}, \\  c_{7} : \\frac{7}{64}, \\  c_{8} : 0\\right\\}\\end{equation}"
      ],
      "text/plain": [
       "⎧                               15               15                           \n",
       "⎨c₀: 0, c₁: 7/64, c₂: 3/16, c₃: ──, c₄: 1/4, c₅: ──, c₆: 3/16, c₇: 7/64, c₈: 0\n",
       "⎩                               64               64                           \n",
       "\n",
       "⎫\n",
       "⎬\n",
       "⎭"
      ]
     },
     "metadata": {},
     "output_type": "display_data"
    }
   ],
   "source": [
    "c_sol = solve(eqs, c)\n",
    "display(c_sol)"
   ]
  },
  {
   "attachments": {},
   "cell_type": "markdown",
   "metadata": {},
   "source": [
    "将$\\{c_i\\}$代入$u=\\sum c_i \\phi_i$，得到近似解$u$"
   ]
  },
  {
   "cell_type": "code",
   "execution_count": 19,
   "metadata": {},
   "outputs": [
    {
     "data": {
      "text/latex": [
       "\\begin{equation}u{\\left(x \\right)} = \\begin{cases} \\frac{21}{32} - \\frac{5 x}{8} & \\text{for}\\: x \\geq \\frac{3}{4} \\wedge x < \\frac{7}{8} \\\\\\frac{7}{8} - \\frac{7 x}{8} & \\text{for}\\: x \\geq \\frac{7}{8} \\wedge x < 1 \\\\\\frac{7 x}{8} & \\text{for}\\: x \\geq 0 \\wedge x < \\frac{1}{8} \\\\\\frac{5 x}{8} + \\frac{1}{32} & \\text{for}\\: x \\geq \\frac{1}{8} \\wedge x < \\frac{1}{4} \\\\\\frac{3 x}{8} + \\frac{3}{32} & \\text{for}\\: x \\geq \\frac{1}{4} \\wedge x < \\frac{3}{8} \\\\\\frac{15}{32} - \\frac{3 x}{8} & \\text{for}\\: x \\geq \\frac{5}{8} \\wedge x < \\frac{3}{4} \\\\\\frac{x}{8} + \\frac{3}{16} & \\text{for}\\: x \\geq \\frac{3}{8} \\wedge x < \\frac{1}{2} \\\\\\frac{5}{16} - \\frac{x}{8} & \\text{for}\\: x \\geq \\frac{1}{2} \\wedge x < \\frac{5}{8} \\\\0 & \\text{otherwise} \\end{cases}\\end{equation}"
      ],
      "text/plain": [
       "       ⎧21   5⋅x                       \n",
       "       ⎪── - ───  for x ≥ 3/4 ∧ x < 7/8\n",
       "       ⎪32    8                        \n",
       "       ⎪                               \n",
       "       ⎪7   7⋅x                        \n",
       "       ⎪─ - ───    for x ≥ 7/8 ∧ x < 1 \n",
       "       ⎪8    8                         \n",
       "       ⎪                               \n",
       "       ⎪  7⋅x                          \n",
       "       ⎪  ───      for x ≥ 0 ∧ x < 1/8 \n",
       "       ⎪   8                           \n",
       "       ⎪                               \n",
       "       ⎪5⋅x   1                        \n",
       "       ⎪─── + ──  for x ≥ 1/8 ∧ x < 1/4\n",
       "       ⎪ 8    32                       \n",
       "       ⎪                               \n",
       "u(x) = ⎨3⋅x   3                        \n",
       "       ⎪─── + ──  for x ≥ 1/4 ∧ x < 3/8\n",
       "       ⎪ 8    32                       \n",
       "       ⎪                               \n",
       "       ⎪15   3⋅x                       \n",
       "       ⎪── - ───  for x ≥ 5/8 ∧ x < 3/4\n",
       "       ⎪32    8                        \n",
       "       ⎪                               \n",
       "       ⎪ x   3                         \n",
       "       ⎪ ─ + ──   for x ≥ 3/8 ∧ x < 1/2\n",
       "       ⎪ 8   16                        \n",
       "       ⎪                               \n",
       "       ⎪ 5    x                        \n",
       "       ⎪ ── - ─   for x ≥ 1/2 ∧ x < 5/8\n",
       "       ⎪ 16   8                        \n",
       "       ⎪                               \n",
       "       ⎩   0            otherwise      "
      ]
     },
     "metadata": {},
     "output_type": "display_data"
    }
   ],
   "source": [
    "fem_sol = S.Zero\n",
    "for i in range(len(phi)):\n",
    "\tfem_sol += c_sol[c[i]] * phi[i]\n",
    "fem_sol = expand(simplify(fem_sol))\n",
    "display(Eq(u(x), fem_sol))"
   ]
  },
  {
   "cell_type": "code",
   "execution_count": 20,
   "metadata": {},
   "outputs": [
    {
     "data": {
      "image/png": "[encoded data removed]",
      "text/plain": [
       "<Figure size 640x480 with 1 Axes>"
      ]
     },
     "metadata": {},
     "output_type": "display_data"
    }
   ],
   "source": [
    "import sympy\n",
    "from sympy.plotting import plot\n",
    "\n",
    "exact_plot = plot(exact_sol, (x, 0, 1), legend=True, show=False, label=\"exact\")\n",
    "sin_plot = plot(sin_sol, (x, 0, 1), legend=True, show=False, label=\"sin\")\n",
    "fem_plot = plot(fem_sol, (x, 0, 1), legend=True, show=False, label=\"fem\")\n",
    "\n",
    "exact_plot.extend(sin_plot)\n",
    "exact_plot.extend(fem_plot)\n",
    "exact_plot.show()"
   ]
  }
 ],
 "metadata": {
  "kernelspec": {
   "display_name": "Python 3",
   "language": "python",
   "name": "python3"
  },
  "language_info": {
   "codemirror_mode": {
    "name": "ipython",
    "version": 3
   },
   "file_extension": ".py",
   "mimetype": "text/x-python",
   "name": "python",
   "nbconvert_exporter": "python",
   "pygments_lexer": "ipython3",
   "version": "3.10.7 (tags/v3.10.7:6cc6b13, Sep  5 2022, 14:08:36) [MSC v.1933 64 bit (AMD64)]"
  },
  "orig_nbformat": 4,
  "vscode": {
   "interpreter": {
    "hash": "b3fe913025a11cd14e3484db9f473dbf9918deb123aa416d8470ecc213ea8ab7"
   }
  }
 },
 "nbformat": 4,
 "nbformat_minor": 2
}
