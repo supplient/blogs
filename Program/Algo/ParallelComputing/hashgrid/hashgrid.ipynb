{
 "cells": [
  {
   "cell_type": "code",
   "execution_count": 13,
   "metadata": {},
   "outputs": [
    {
     "name": "stdout",
     "output_type": "stream",
     "text": [
      "env: NUMBA_CUDA_LOW_OCCUPANCY_WARNINGS=0\n"
     ]
    }
   ],
   "source": [
    "%env NUMBA_CUDA_LOW_OCCUPANCY_WARNINGS=0\n",
    "import torch\n",
    "import numba.cuda as cu\n",
    "import matplotlib.pyplot as plt"
   ]
  },
  {
   "cell_type": "markdown",
   "metadata": {},
   "source": [
    "# 计算HashGrid"
   ]
  },
  {
   "cell_type": "markdown",
   "metadata": {},
   "source": [
    "$x$为输入，$x_i$为二维空间中的一个点，后文中将称这个点为“元素”。"
   ]
  },
  {
   "cell_type": "code",
   "execution_count": 14,
   "metadata": {},
   "outputs": [
    {
     "name": "stdout",
     "output_type": "stream",
     "text": [
      "tensor([[0.9000, 0.3000],\n",
      "        [1.6000, 1.4000],\n",
      "        [0.1000, 0.8000],\n",
      "        [1.1000, 0.9000]])\n"
     ]
    },
    {
     "data": {
      "image/png": "[encoded data removed]",
      "text/plain": [
       "<Figure size 640x480 with 1 Axes>"
      ]
     },
     "metadata": {},
     "output_type": "display_data"
    }
   ],
   "source": [
    "x = torch.tensor([\n",
    "\t[0.9, 0.3],\n",
    "\t[1.6, 1.4],\n",
    "\t[0.1, 0.8],\n",
    "\t[1.1, 0.9],\n",
    "])\n",
    "\n",
    "print(x)\n",
    "plt.grid()\n",
    "plt.axis([0, 2, 0, 2])\n",
    "plt.scatter(x[:, 0], x[:, 1], color=['r', 'g', 'r', 'b'])\n",
    "plt.show()"
   ]
  },
  {
   "cell_type": "markdown",
   "metadata": {},
   "source": [
    "$\\delta$为HashGrid的大小，也就是xy各维度有多少个格子。"
   ]
  },
  {
   "cell_type": "code",
   "execution_count": 15,
   "metadata": {},
   "outputs": [
    {
     "data": {
      "text/plain": [
       "tensor([2, 2])"
      ]
     },
     "execution_count": 15,
     "metadata": {},
     "output_type": "execute_result"
    }
   ],
   "source": [
    "delta = torch.tensor([2,2])\n",
    "delta"
   ]
  },
  {
   "cell_type": "markdown",
   "metadata": {},
   "source": [
    "$h$为HashGrid中格子的尺寸，每个格子占据了空间中$h\\times h$大小的面积。"
   ]
  },
  {
   "cell_type": "code",
   "execution_count": 16,
   "metadata": {},
   "outputs": [
    {
     "data": {
      "text/plain": [
       "tensor([1, 1])"
      ]
     },
     "execution_count": 16,
     "metadata": {},
     "output_type": "execute_result"
    }
   ],
   "source": [
    "h = torch.tensor([1,1])\n",
    "h"
   ]
  },
  {
   "cell_type": "markdown",
   "metadata": {},
   "source": [
    "$H(x) = \\lfloor \\frac{x}{h} \\rfloor \\mod \\delta$为哈希函数，从二维空间坐标映射到格子索引：$R^2 \\rightarrow N^2$。"
   ]
  },
  {
   "cell_type": "code",
   "execution_count": 17,
   "metadata": {},
   "outputs": [
    {
     "data": {
      "text/plain": [
       "tensor([[0., 0.],\n",
       "        [1., 1.],\n",
       "        [0., 0.],\n",
       "        [1., 0.]])"
      ]
     },
     "execution_count": 17,
     "metadata": {},
     "output_type": "execute_result"
    }
   ],
   "source": [
    "def H(x, h, delta):\n",
    "\t# Spatial Hash\n",
    "\tu = torch.floor(x/h) % delta\n",
    "\treturn u\n",
    "u = H(x, h, delta)\n",
    "\n",
    "u"
   ]
  },
  {
   "cell_type": "markdown",
   "metadata": {},
   "source": [
    "因为pytorch的`sort`不接受多维tensor作为key，\n",
    "所以在哈希后还得先把格子索引压缩为0维标量。\n",
    "\n",
    "例如，当HashGrid尺寸为$\\delta = (2,3,3)$，格子索引$u=(1,0,2)$时，\n",
    "压缩后的索引为$1\\times 3 \\times 3 + 0 \\times 3 + 2 \\times 1 = 11$。\n",
    "\n",
    "具体求值时，设$\\bar{\\delta}$为$\\delta$的前缀积，即$\\bar{\\delta}_i = \\prod^{i}_{j=1} \\delta_j$。\n",
    "并设共有$n$个维度，则压缩后的索引（使用broadcast传播$\\bar{\\delta}_n$）：\n",
    "\n",
    "$$\n",
    "\n",
    "\\hat{u} = u \\cdot \\frac{\\bar{\\delta}_n}{\\bar{\\delta}}\n",
    "\n",
    "$$"
   ]
  },
  {
   "cell_type": "code",
   "execution_count": 18,
   "metadata": {},
   "outputs": [
    {
     "data": {
      "text/plain": [
       "tensor([0, 3, 0, 2], dtype=torch.int32)"
      ]
     },
     "execution_count": 18,
     "metadata": {},
     "output_type": "execute_result"
    }
   ],
   "source": [
    "def squeeze_grid_index(u, delta):\n",
    "\tcumprod_delta = torch.cumprod(delta, dim=0)\n",
    "\tprodsum_delta = cumprod_delta[-1]\n",
    "\td = torch.tensordot(u, prodsum_delta / cumprod_delta, dims=([1], [0])).int()\n",
    "\treturn d\n",
    "u = squeeze_grid_index(u, delta)\n",
    "\n",
    "u"
   ]
  },
  {
   "cell_type": "markdown",
   "metadata": {},
   "source": [
    "按照格子索引$u$进行排序，得到排序后的格子索引$s$，并有全排列$t$使得：\n",
    "\n",
    "$$\n",
    "s_i = u_{t_i}\n",
    "$$"
   ]
  },
  {
   "cell_type": "code",
   "execution_count": 19,
   "metadata": {},
   "outputs": [
    {
     "data": {
      "text/plain": [
       "tensor([0, 2, 3, 1])"
      ]
     },
     "execution_count": 19,
     "metadata": {},
     "output_type": "execute_result"
    }
   ],
   "source": [
    "t = torch.argsort(u)\n",
    "\n",
    "t"
   ]
  },
  {
   "cell_type": "code",
   "execution_count": 20,
   "metadata": {},
   "outputs": [
    {
     "data": {
      "text/plain": [
       "tensor([0, 0, 2, 3], dtype=torch.int32)"
      ]
     },
     "execution_count": 20,
     "metadata": {},
     "output_type": "execute_result"
    }
   ],
   "source": [
    "s = u[t]\n",
    "\n",
    "s"
   ]
  },
  {
   "cell_type": "markdown",
   "metadata": {},
   "source": [
    "构造索引矩阵$L, R$，使得第$i$个格子中包含的元素的索引集合$\\Omega_i$为：\n",
    "\n",
    "$$\n",
    "\\Omega_i = \\{ j : j=t_i, i \\in [L_i, R_i) \\}\n",
    "$$\n",
    "\n",
    "也就是$L, R$分别标记了$s$中连续子数组的起始和结尾，\n",
    "而因为$s$中存储的是（排序后的）格子索引，\n",
    "所以每对$L_i, R_i$标记了格子索引为$i$的格子中的所有元素在$s$中的位置，\n",
    "随后我们再通过$s_i = u_{t_i}$的关系映射回原来的元素索引$j$，最后得到元素值$x_j$。\n",
    "\n",
    "这两个矩阵的数学表示为：\n",
    "\n",
    "$$\n",
    "\\begin{aligned}\n",
    "\n",
    "\t&\\left\\{\n",
    "\t\\begin{aligned}\n",
    "\t\tL_{u_i} &= \\min \\{ j : s_i = s_j \\} \\\\\n",
    "\t\tL_{k} &= 0, \\forall k: \\forall i, k \\neq u_i\n",
    "\t\\end{aligned}\n",
    "\t\\right.\n",
    "\t\\\\\n",
    "\n",
    "\t&\\left\\{\n",
    "\t\\begin{aligned}\n",
    "\t\tR_{u_i} &= \\max \\{ j+1 : s_i = s_j \\} \\\\\n",
    "\t\tR_{k} &= 0, \\forall k: \\forall i, k \\neq u_i\n",
    "\t\\end{aligned}\n",
    "\t\\right.\n",
    "\n",
    "\\end{aligned}\n",
    "$$\n",
    "\n",
    "不过实际计算$L$的时候我们是对$s$写了一个kernel，使得对$s$的每个元素$s_i$：\n",
    "* 若$i = 0$或$s_i = s_{i-1}$，则说明它是$s$中一个连续子数组的起始，于是把它填入$L$中：$L_{s_i} = i$\n",
    "* 否则，什么也不做\n",
    "\n",
    "对$R$也是同理。"
   ]
  },
  {
   "cell_type": "code",
   "execution_count": 21,
   "metadata": {},
   "outputs": [],
   "source": [
    "# Convenient function for specifying CUDA thread block size\n",
    "block_size = 32\n",
    "def cal_block_num(n):\n",
    "\treturn int((n-1)/block_size) + 1"
   ]
  },
  {
   "cell_type": "code",
   "execution_count": 22,
   "metadata": {},
   "outputs": [
    {
     "data": {
      "text/plain": [
       "tensor([0, 0, 2, 3], device='cuda:0', dtype=torch.int32)"
      ]
     },
     "execution_count": 22,
     "metadata": {},
     "output_type": "execute_result"
    }
   ],
   "source": [
    "@cu.jit\n",
    "def cal_L(L, s):\n",
    "\tsi = cu.grid(1)\n",
    "\tif si >= s.shape[0]:\n",
    "\t\treturn\n",
    "\tif si == 0 or s[si] != s[si-1]:\n",
    "\t\tL[s[si]] = si\n",
    "\n",
    "L = torch.zeros(size=[torch.prod(delta)]).int().cuda()\n",
    "cal_L[cal_block_num(s.shape[0]), block_size](L, s.to(device=\"cuda\"))\n",
    "L"
   ]
  },
  {
   "cell_type": "code",
   "execution_count": 23,
   "metadata": {},
   "outputs": [
    {
     "data": {
      "text/plain": [
       "tensor([2, 0, 3, 4], device='cuda:0', dtype=torch.int32)"
      ]
     },
     "execution_count": 23,
     "metadata": {},
     "output_type": "execute_result"
    }
   ],
   "source": [
    "@cu.jit\n",
    "def cal_R(R, s):\n",
    "\tsi = cu.grid(1)\n",
    "\tif si >= s.shape[0]:\n",
    "\t\treturn\n",
    "\tif si == s.shape[0]-1 or s[si] != s[si+1]:\n",
    "\t\tR[s[si]] = si+1\n",
    "\n",
    "R = torch.zeros(size=[torch.prod(delta)]).int().cuda()\n",
    "cal_R[cal_block_num(s.shape[0]), block_size](R, s.to(device=\"cuda\"))\n",
    "R"
   ]
  },
  {
   "cell_type": "markdown",
   "metadata": {},
   "source": [
    "**TODO: 把$t$消掉，让$L,R$指向的数组直接就是存放着粒子的原始索引**"
   ]
  },
  {
   "cell_type": "markdown",
   "metadata": {},
   "source": [
    "# 使用HashGrid"
   ]
  },
  {
   "cell_type": "markdown",
   "metadata": {},
   "source": [
    "为了方便验证HashGrid，我们设计了一个简单的问题——\n",
    "\n",
    "为每个元素赋予一个权重值$v$（即，对每个$x_i$都有一个$v_i$），欲求$r$使得$r_i$等于元素$x_i$所在格子中的所有元素的权重值的总和（包括$x_i$自己），即：\n",
    "\n",
    "$$\n",
    "r_i = \\sum_{j \\in \\Omega_k} v_j\n",
    "$$\n",
    "\n",
    "其中$k$为$x_i$所在格子的索引，$\\Omega_k$为该格子包含的所有元素的索引。"
   ]
  },
  {
   "cell_type": "code",
   "execution_count": 24,
   "metadata": {},
   "outputs": [],
   "source": [
    "v = torch.tensor([2,3,5,7])"
   ]
  },
  {
   "cell_type": "markdown",
   "metadata": {},
   "source": [
    "如果是串行实现的话，那$r$的计算方法大概就是如下的二重循环（第0个和第2个是在同一个格子里，所以$r_0 = r_2 = 2 + 5 = 7$）："
   ]
  },
  {
   "cell_type": "code",
   "execution_count": 49,
   "metadata": {},
   "outputs": [
    {
     "data": {
      "text/plain": [
       "tensor([7, 3, 7, 7])"
      ]
     },
     "execution_count": 49,
     "metadata": {},
     "output_type": "execute_result"
    }
   ],
   "source": [
    "r = torch.zeros_like(v)\n",
    "for ui in range(0, len(r)):\n",
    "\tcell_id = u[ui]\n",
    "\tfor si in range(L[cell_id], R[cell_id]):\n",
    "\t\tvi = t[si]\n",
    "\t\tr[ui] += v[vi]\n",
    "\n",
    "r"
   ]
  },
  {
   "cell_type": "markdown",
   "metadata": {},
   "source": [
    "不过注意到上面的二重循环的内层循环是一个不定长循环，\n",
    "就是说对不同的`ui`而言，内层循环的迭代次数$R_{u_i} - L_{u_i}$也是不同的。\n",
    "\n",
    "这就导致该循环没法在GPU跑（或者说如果强行在GPU上跑的话容易出现效率很低的情况，具体原因此处不做展开）。\n",
    "因此我们需要把它展开成定长循环才行。"
   ]
  },
  {
   "cell_type": "markdown",
   "metadata": {},
   "source": [
    "## 不定长循环展开"
   ]
  },
  {
   "cell_type": "markdown",
   "metadata": {},
   "source": [
    "注意到上面的二重循环其实可以看成是对一个二维不规则数组$C$的遍历，\n",
    "数组元素$C_{ij}$为：\n",
    "\n",
    "$$\n",
    "\tC_{ij} = (r_i, v_{t_j})\n",
    "$$\n",
    "\n",
    "此处略去关于展开二维不规则数组的讨论（TODO：给出一个博客链接）"
   ]
  },
  {
   "cell_type": "markdown",
   "metadata": {},
   "source": [
    "我们首先计算内层循环的迭代次数，并将其存储到$S$中，即$S_i = R_{u_i} - L_{u_i}$："
   ]
  },
  {
   "cell_type": "code",
   "execution_count": 30,
   "metadata": {},
   "outputs": [
    {
     "data": {
      "text/plain": [
       "tensor([2, 1, 2, 1], device='cuda:0')"
      ]
     },
     "execution_count": 30,
     "metadata": {},
     "output_type": "execute_result"
    }
   ],
   "source": [
    "@cu.jit\n",
    "def cal_S(S, L, R, u):\n",
    "\ti = cu.grid(1)\n",
    "\tif i >= S.shape[0]:\n",
    "\t\treturn\n",
    "\tj = u[i]\n",
    "\tS[i] = R[j] - L[j]\n",
    "\n",
    "S = torch.empty_like(v, dtype=int).cuda()\n",
    "cal_S[cal_block_num(S.shape[0]), block_size](S, L.cuda(), R.cuda(), u.cuda())\n",
    "\n",
    "S"
   ]
  },
  {
   "cell_type": "code",
   "execution_count": 38,
   "metadata": {},
   "outputs": [
    {
     "data": {
      "text/plain": [
       "6"
      ]
     },
     "execution_count": 38,
     "metadata": {},
     "output_type": "execute_result"
    }
   ],
   "source": [
    "total_loop_num = torch.sum(S).item()\n",
    "total_loop_num"
   ]
  },
  {
   "cell_type": "code",
   "execution_count": 39,
   "metadata": {},
   "outputs": [
    {
     "data": {
      "text/plain": [
       "tensor([0, 2, 3, 5], device='cuda:0')"
      ]
     },
     "execution_count": 39,
     "metadata": {},
     "output_type": "execute_result"
    }
   ],
   "source": [
    "W = S.cumsum(0).roll(1, 0)\n",
    "W[0] = 0\n",
    "\n",
    "W"
   ]
  },
  {
   "cell_type": "code",
   "execution_count": 40,
   "metadata": {},
   "outputs": [],
   "source": [
    "from flood import rightflood"
   ]
  },
  {
   "cell_type": "code",
   "execution_count": 46,
   "metadata": {},
   "outputs": [
    {
     "data": {
      "text/plain": [
       "tensor([0, 0, 1, 2, 2, 3], device='cuda:0')"
      ]
     },
     "execution_count": 46,
     "metadata": {},
     "output_type": "execute_result"
    }
   ],
   "source": [
    "I: torch.Tensor = torch.zeros(total_loop_num, dtype=torch.long).cuda()\n",
    "I.index_add_(dim=0, index=W.cuda(), source=torch.arange(start=0, end=W.shape[0]).cuda(), alpha=1)\n",
    "I = rightflood(I)\n",
    "\n",
    "I"
   ]
  },
  {
   "cell_type": "code",
   "execution_count": 48,
   "metadata": {},
   "outputs": [
    {
     "data": {
      "text/plain": [
       "tensor([0, 0, 2, 3, 3, 5], device='cuda:0')"
      ]
     },
     "execution_count": 48,
     "metadata": {},
     "output_type": "execute_result"
    }
   ],
   "source": [
    "S: torch.Tensor = torch.zeros(total_loop_num, dtype=torch.long).cuda()\n",
    "S.index_add_(dim=0, index=W.cuda(), source=W.cuda(), alpha=1)\n",
    "S = rightflood(S)\n",
    "\n",
    "S"
   ]
  },
  {
   "cell_type": "code",
   "execution_count": 53,
   "metadata": {},
   "outputs": [
    {
     "data": {
      "text/plain": [
       "tensor([7, 3, 7, 7], device='cuda:0')"
      ]
     },
     "execution_count": 53,
     "metadata": {},
     "output_type": "execute_result"
    }
   ],
   "source": [
    "@cu.jit\n",
    "def traverse(r, v, t, u, L, I, S):\n",
    "\tk = cu.grid(1)\n",
    "\tif k >= I.shape[0]:\n",
    "\t\treturn\n",
    "\ti = I[k]\n",
    "\tj = k - S[k]\n",
    "\tvi = t[j + L[u[i]]]\n",
    "\tcu.atomic.add(r, i, v[vi])\n",
    "\t\n",
    "r = torch.zeros_like(v).cuda()\n",
    "traverse[cal_block_num(I.shape[0]), block_size](r, v.cuda(), t.cuda(), u.cuda(), L.cuda(), I, S)\n",
    "\n",
    "r"
   ]
  }
 ],
 "metadata": {
  "kernelspec": {
   "display_name": "Python 3.10.7 64-bit",
   "language": "python",
   "name": "python3"
  },
  "language_info": {
   "codemirror_mode": {
    "name": "ipython",
    "version": 3
   },
   "file_extension": ".py",
   "mimetype": "text/x-python",
   "name": "python",
   "nbconvert_exporter": "python",
   "pygments_lexer": "ipython3",
   "version": "3.10.7"
  },
  "orig_nbformat": 4,
  "vscode": {
   "interpreter": {
    "hash": "b3fe913025a11cd14e3484db9f473dbf9918deb123aa416d8470ecc213ea8ab7"
   }
  }
 },
 "nbformat": 4,
 "nbformat_minor": 2
}
