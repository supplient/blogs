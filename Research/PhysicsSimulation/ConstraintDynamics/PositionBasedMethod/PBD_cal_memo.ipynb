{
 "cells": [
  {
   "cell_type": "code",
   "execution_count": 1,
   "metadata": {},
   "outputs": [],
   "source": [
    "from sympy import *"
   ]
  },
  {
   "cell_type": "code",
   "execution_count": 7,
   "metadata": {},
   "outputs": [
    {
     "data": {
      "text/latex": [
       "$\\displaystyle \\left[\\begin{matrix}v^{1}_{A}\\\\v^{2}_{A}\\\\v^{1}_{B}\\\\v^{2}_{B}\\end{matrix}\\right]$"
      ],
      "text/plain": [
       "Matrix([\n",
       "[v_A^1],\n",
       "[v_A^2],\n",
       "[v_B^1],\n",
       "[v_B^2]])"
      ]
     },
     "metadata": {},
     "output_type": "display_data"
    },
    {
     "data": {
      "text/latex": [
       "$\\displaystyle \\left[\\begin{matrix}x_{A}\\\\y_{A}\\\\x_{B}\\\\y_{B}\\end{matrix}\\right]$"
      ],
      "text/plain": [
       "Matrix([\n",
       "[x_A],\n",
       "[y_A],\n",
       "[x_B],\n",
       "[y_B]])"
      ]
     },
     "metadata": {},
     "output_type": "display_data"
    }
   ],
   "source": [
    "g = symbols(\"g\")\n",
    "dt = Symbol(\"\\Delta t\")\n",
    "v_Ax, v_Ay, v_Bx, v_By = symbols(\"v_A^1 v_A^2 v_B^1 v_B^2\")\n",
    "v = Matrix([v_Ax, v_Ay, v_Bx, v_By])\n",
    "x_A, y_A, x_B, y_B = symbols(\"x_A y_A x_B y_B\")\n",
    "q = Matrix([x_A, y_A, x_B, y_B])\n",
    "display(v)\n",
    "display(q)"
   ]
  },
  {
   "cell_type": "code",
   "execution_count": 6,
   "metadata": {},
   "outputs": [
    {
     "data": {
      "text/latex": [
       "$\\displaystyle \\left[\\begin{matrix}m_{A} & 0 & 0 & 0\\\\0 & m_{A} & 0 & 0\\\\0 & 0 & m_{B} & 0\\\\0 & 0 & 0 & m_{B}\\end{matrix}\\right]$"
      ],
      "text/plain": [
       "Matrix([\n",
       "[m_A,   0,   0,   0],\n",
       "[  0, m_A,   0,   0],\n",
       "[  0,   0, m_B,   0],\n",
       "[  0,   0,   0, m_B]])"
      ]
     },
     "metadata": {},
     "output_type": "display_data"
    },
    {
     "data": {
      "text/latex": [
       "$\\displaystyle \\left[\\begin{matrix}0\\\\- g\\\\0\\\\- g\\end{matrix}\\right]$"
      ],
      "text/plain": [
       "Matrix([\n",
       "[ 0],\n",
       "[-g],\n",
       "[ 0],\n",
       "[-g]])"
      ]
     },
     "metadata": {},
     "output_type": "display_data"
    }
   ],
   "source": [
    "m_A, m_B = symbols(\"m_A m_B\")\n",
    "M = diag(*[m_A, m_A, m_B, m_B])\n",
    "F_E = Matrix([0, -g, 0, -g])\n",
    "display(M)\n",
    "display(F_E)"
   ]
  },
  {
   "cell_type": "code",
   "execution_count": 5,
   "metadata": {},
   "outputs": [
    {
     "data": {
      "text/latex": [
       "$\\displaystyle \\left[\\begin{matrix}x_{A}\\\\y_{A}\\\\\\left(- x_{A} + x_{B}\\right)^{2} + \\left(- y_{A} + y_{B}\\right)^{2} - 2\\end{matrix}\\right]$"
      ],
      "text/plain": [
       "Matrix([\n",
       "[                                  x_A],\n",
       "[                                  y_A],\n",
       "[(-x_A + x_B)**2 + (-y_A + y_B)**2 - 2]])"
      ]
     },
     "execution_count": 5,
     "metadata": {},
     "output_type": "execute_result"
    }
   ],
   "source": [
    "C = Matrix([x_A, y_A, (x_B-x_A)*(x_B-x_A) + (y_B-y_A)*(y_B-y_A) - 2])\n",
    "C"
   ]
  },
  {
   "cell_type": "code",
   "execution_count": 9,
   "metadata": {},
   "outputs": [
    {
     "data": {
      "text/latex": [
       "$\\displaystyle \\left[\\begin{matrix}1 & 0 & 0 & 0\\\\0 & 1 & 0 & 0\\\\2 x_{A} - 2 x_{B} & 2 y_{A} - 2 y_{B} & - 2 x_{A} + 2 x_{B} & - 2 y_{A} + 2 y_{B}\\end{matrix}\\right]$"
      ],
      "text/plain": [
       "Matrix([\n",
       "[            1,             0,              0,              0],\n",
       "[            0,             1,              0,              0],\n",
       "[2*x_A - 2*x_B, 2*y_A - 2*y_B, -2*x_A + 2*x_B, -2*y_A + 2*y_B]])"
      ]
     },
     "metadata": {},
     "output_type": "display_data"
    },
    {
     "name": "stdout",
     "output_type": "stream",
     "text": [
      "\\left[\\begin{matrix}1 & 0 & 0 & 0\\\\0 & 1 & 0 & 0\\\\2 x_{A} - 2 x_{B} & 2 y_{A} - 2 y_{B} & - 2 x_{A} + 2 x_{B} & - 2 y_{A} + 2 y_{B}\\end{matrix}\\right]\n"
     ]
    }
   ],
   "source": [
    "J_C = C.jacobian(q)\n",
    "display(J_C)\n",
    "print(latex(J_C))"
   ]
  },
  {
   "cell_type": "code",
   "execution_count": 13,
   "metadata": {},
   "outputs": [
    {
     "data": {
      "text/latex": [
       "$\\displaystyle \\left[\\begin{matrix}\\Delta t v^{1}_{A} + x_{A}\\\\\\Delta t \\left(- \\frac{\\Delta t g}{m_{A}} + v^{2}_{A}\\right) + y_{A}\\\\\\Delta t v^{1}_{B} + x_{B}\\\\\\Delta t \\left(- \\frac{\\Delta t g}{m_{B}} + v^{2}_{B}\\right) + y_{B}\\end{matrix}\\right]$"
      ],
      "text/plain": [
       "Matrix([\n",
       "[                    \\Delta t*v_A^1 + x_A],\n",
       "[\\Delta t*(-\\Delta t*g/m_A + v_A^2) + y_A],\n",
       "[                    \\Delta t*v_B^1 + x_B],\n",
       "[\\Delta t*(-\\Delta t*g/m_B + v_B^2) + y_B]])"
      ]
     },
     "metadata": {},
     "output_type": "display_data"
    },
    {
     "name": "stdout",
     "output_type": "stream",
     "text": [
      "\\left[\\begin{matrix}\\Delta t v^{1}_{A} + x_{A}\\\\\\Delta t \\left(- \\frac{\\Delta t g}{m_{A}} + v^{2}_{A}\\right) + y_{A}\\\\\\Delta t v^{1}_{B} + x_{B}\\\\\\Delta t \\left(- \\frac{\\Delta t g}{m_{B}} + v^{2}_{B}\\right) + y_{B}\\end{matrix}\\right]\n"
     ]
    }
   ],
   "source": [
    "a_star = M.inverse_ADJ() * F_E\n",
    "v_star = v + dt * a_star\n",
    "q_star = q + dt * v_star\n",
    "display(q_star)\n",
    "print(latex(q_star))"
   ]
  },
  {
   "cell_type": "code",
   "execution_count": 14,
   "metadata": {},
   "outputs": [
    {
     "data": {
      "text/latex": [
       "$\\displaystyle \\left[\\begin{matrix}\\lambda_{1}\\\\\\lambda_{2}\\\\\\lambda_{3}\\end{matrix}\\right]$"
      ],
      "text/plain": [
       "Matrix([\n",
       "[\\lambda_1],\n",
       "[\\lambda_2],\n",
       "[\\lambda_3]])"
      ]
     },
     "execution_count": 14,
     "metadata": {},
     "output_type": "execute_result"
    }
   ],
   "source": [
    "lam_eles = symbols(f\"\\lambda_1:{C.shape[0]+1}\")\n",
    "lam = Matrix(lam_eles)\n",
    "lam"
   ]
  },
  {
   "cell_type": "code",
   "execution_count": 20,
   "metadata": {},
   "outputs": [
    {
     "data": {
      "text/latex": [
       "$\\displaystyle \\left[\\begin{matrix}\\Delta t v^{1}_{A} + \\frac{\\lambda_{1}}{m_{A}} + \\frac{\\lambda_{3} \\cdot \\left(2 x_{A} - 2 x_{B}\\right)}{m_{A}} + x_{A}\\\\\\Delta t \\left(- \\frac{\\Delta t g}{m_{A}} + v^{2}_{A}\\right) + \\frac{\\lambda_{2}}{m_{A}} + \\frac{\\lambda_{3} \\cdot \\left(2 y_{A} - 2 y_{B}\\right)}{m_{A}} + y_{A}\\\\\\Delta t v^{1}_{B} + \\frac{\\lambda_{3} \\left(- 2 x_{A} + 2 x_{B}\\right)}{m_{B}} + x_{B}\\\\\\Delta t \\left(- \\frac{\\Delta t g}{m_{B}} + v^{2}_{B}\\right) + \\frac{\\lambda_{3} \\left(- 2 y_{A} + 2 y_{B}\\right)}{m_{B}} + y_{B}\\end{matrix}\\right]$"
      ],
      "text/plain": [
       "Matrix([\n",
       "[                    \\Delta t*v_A^1 + \\lambda_1/m_A + \\lambda_3*(2*x_A - 2*x_B)/m_A + x_A],\n",
       "[\\Delta t*(-\\Delta t*g/m_A + v_A^2) + \\lambda_2/m_A + \\lambda_3*(2*y_A - 2*y_B)/m_A + y_A],\n",
       "[                                   \\Delta t*v_B^1 + \\lambda_3*(-2*x_A + 2*x_B)/m_B + x_B],\n",
       "[               \\Delta t*(-\\Delta t*g/m_B + v_B^2) + \\lambda_3*(-2*y_A + 2*y_B)/m_B + y_B]])"
      ]
     },
     "execution_count": 20,
     "metadata": {},
     "output_type": "execute_result"
    }
   ],
   "source": [
    "q_var = q_star + M.inverse_ADJ() * J_C.T * lam\n",
    "q_var"
   ]
  },
  {
   "cell_type": "code",
   "execution_count": 135,
   "metadata": {},
   "outputs": [
    {
     "data": {
      "text/latex": [
       "$\\displaystyle \\left[\\begin{matrix}x_{A}\\\\y_{A}\\\\\\left(- x_{A} + x_{B}\\right)^{2} + \\left(- y_{A} + y_{B}\\right)^{2} - 2\\end{matrix}\\right]$"
      ],
      "text/plain": [
       "Matrix([\n",
       "[                                  x_A],\n",
       "[                                  y_A],\n",
       "[(-x_A + x_B)**2 + (-y_A + y_B)**2 - 2]])"
      ]
     },
     "metadata": {},
     "output_type": "display_data"
    },
    {
     "data": {
      "text/latex": [
       "$\\displaystyle \\left[\\begin{matrix}q_{1}\\\\q_{2}\\\\\\left(- q_{1} + q_{3}\\right)^{2} + \\left(- q_{2} + q_{4}\\right)^{2} - 2\\end{matrix}\\right]$"
      ],
      "text/plain": [
       "Matrix([\n",
       "[                                  q_1],\n",
       "[                                  q_2],\n",
       "[(-q_1 + q_3)**2 + (-q_2 + q_4)**2 - 2]])"
      ]
     },
     "metadata": {},
     "output_type": "display_data"
    },
    {
     "data": {
      "text/latex": [
       "$\\displaystyle \\left[\\begin{matrix}\\Delta t v^{1}_{A} + \\frac{\\lambda_{1}}{m_{A}} + \\frac{\\lambda_{3} \\cdot \\left(2 x_{A} - 2 x_{B}\\right)}{m_{A}} + x_{A}\\\\\\Delta t \\left(- \\frac{\\Delta t g}{m_{A}} + v^{2}_{A}\\right) + \\frac{\\lambda_{2}}{m_{A}} + \\frac{\\lambda_{3} \\cdot \\left(2 y_{A} - 2 y_{B}\\right)}{m_{A}} + y_{A}\\\\\\left(- \\Delta t v^{1}_{A} + \\Delta t v^{1}_{B} - \\frac{\\lambda_{1}}{m_{A}} + \\frac{\\lambda_{3} \\left(- 2 x_{A} + 2 x_{B}\\right)}{m_{B}} - \\frac{\\lambda_{3} \\cdot \\left(2 x_{A} - 2 x_{B}\\right)}{m_{A}} - x_{A} + x_{B}\\right)^{2} + \\left(- \\Delta t \\left(- \\frac{\\Delta t g}{m_{A}} + v^{2}_{A}\\right) + \\Delta t \\left(- \\frac{\\Delta t g}{m_{B}} + v^{2}_{B}\\right) - \\frac{\\lambda_{2}}{m_{A}} + \\frac{\\lambda_{3} \\left(- 2 y_{A} + 2 y_{B}\\right)}{m_{B}} - \\frac{\\lambda_{3} \\cdot \\left(2 y_{A} - 2 y_{B}\\right)}{m_{A}} - y_{A} + y_{B}\\right)^{2} - 2\\end{matrix}\\right]$"
      ],
      "text/plain": [
       "Matrix([\n",
       "[                                                                                                                                                                                                                                               \\Delta t*v_A^1 + \\lambda_1/m_A + \\lambda_3*(2*x_A - 2*x_B)/m_A + x_A],\n",
       "[                                                                                                                                                                                                                           \\Delta t*(-\\Delta t*g/m_A + v_A^2) + \\lambda_2/m_A + \\lambda_3*(2*y_A - 2*y_B)/m_A + y_A],\n",
       "[(-\\Delta t*v_A^1 + \\Delta t*v_B^1 - \\lambda_1/m_A + \\lambda_3*(-2*x_A + 2*x_B)/m_B - \\lambda_3*(2*x_A - 2*x_B)/m_A - x_A + x_B)**2 + (-\\Delta t*(-\\Delta t*g/m_A + v_A^2) + \\Delta t*(-\\Delta t*g/m_B + v_B^2) - \\lambda_2/m_A + \\lambda_3*(-2*y_A + 2*y_B)/m_B - \\lambda_3*(2*y_A - 2*y_B)/m_A - y_A + y_B)**2 - 2]])"
      ]
     },
     "metadata": {},
     "output_type": "display_data"
    }
   ],
   "source": [
    "q_1, q_2, q_3, q_4 = symbols(\"q_1:5\")\n",
    "C_var = C.copy()\n",
    "display(C_var)\n",
    "C_var = C_var.subs(x_A, q_1).subs(y_A, q_2).subs(x_B, q_3).subs(y_B, q_4)\n",
    "display(C_var)\n",
    "C_var = C_var.subs(q_1, q_var[0]).subs(q_2, q_var[1]).subs(q_3, q_var[2]).subs(q_4, q_var[3])\n",
    "display(C_var)"
   ]
  },
  {
   "cell_type": "code",
   "execution_count": 136,
   "metadata": {},
   "outputs": [
    {
     "data": {
      "text/latex": [
       "$\\displaystyle \\left[\\begin{matrix}\\lambda_{1} - 2 \\lambda_{3}\\\\- \\Delta t^{2} g + \\lambda_{2} + 2 \\lambda_{3}\\\\\\left(- \\lambda_{1} + 4 \\lambda_{3} + 1\\right)^{2} + \\left(- \\lambda_{2} - 4 \\lambda_{3} - 1\\right)^{2} - 2\\end{matrix}\\right]$"
      ],
      "text/plain": [
       "Matrix([\n",
       "[                                                  \\lambda_1 - 2*\\lambda_3],\n",
       "[                                 -\\Delta t**2*g + \\lambda_2 + 2*\\lambda_3],\n",
       "[(-\\lambda_1 + 4*\\lambda_3 + 1)**2 + (-\\lambda_2 - 4*\\lambda_3 - 1)**2 - 2]])"
      ]
     },
     "execution_count": 136,
     "metadata": {},
     "output_type": "execute_result"
    }
   ],
   "source": [
    "value_pair = [\n",
    "\t(x_A, 0),\n",
    "\t(y_A, 0),\n",
    "\t(x_B, 1),\n",
    "\t(y_B, -1),\n",
    "\t(v_Ax, 0),\n",
    "\t(v_Ay, 0),\n",
    "\t(v_Bx, 0),\n",
    "\t(v_By, 0),\n",
    "\t(m_A, 1),\n",
    "\t(m_B, 1),\n",
    "\t# (dt, 0.001),\n",
    "\t# (g, 10),\n",
    "]\n",
    "def ReplaceValue(exp):\n",
    "\texp = exp.copy()\n",
    "\tfor p in value_pair:\n",
    "\t\texp = exp.subs(*p)\n",
    "\treturn exp\n",
    "\n",
    "C_var = ReplaceValue(C_var)\n",
    "C_var"
   ]
  },
  {
   "cell_type": "code",
   "execution_count": 137,
   "metadata": {},
   "outputs": [],
   "source": [
    "import sympy.solvers \n",
    "res = sympy.solvers.solve(Eq(C_var, Matrix([0]*C_var.shape[0])), lam[0], lam[1], lam[2])"
   ]
  },
  {
   "cell_type": "code",
   "execution_count": 138,
   "metadata": {},
   "outputs": [
    {
     "name": "stdout",
     "output_type": "stream",
     "text": [
      "Solution 1\n"
     ]
    },
    {
     "data": {
      "text/latex": [
       "$\\displaystyle \\lambda_{1} = - \\frac{\\Delta t^{2} g}{2} - \\frac{\\sqrt{- \\Delta t^{4} g^{2} + 4}}{2} - 1$"
      ],
      "text/plain": [
       "Eq(\\lambda_1, -\\Delta t**2*g/2 - sqrt(-\\Delta t**4*g**2 + 4)/2 - 1)"
      ]
     },
     "metadata": {},
     "output_type": "display_data"
    },
    {
     "data": {
      "text/latex": [
       "$\\displaystyle \\lambda_{2} = \\frac{3 \\Delta t^{2} g}{2} + \\frac{\\sqrt{- \\Delta t^{4} g^{2} + 4}}{2} + 1$"
      ],
      "text/plain": [
       "Eq(\\lambda_2, 3*\\Delta t**2*g/2 + sqrt(-\\Delta t**4*g**2 + 4)/2 + 1)"
      ]
     },
     "metadata": {},
     "output_type": "display_data"
    },
    {
     "data": {
      "text/latex": [
       "$\\displaystyle \\lambda_{3} = - \\frac{\\Delta t^{2} g}{4} - \\frac{\\sqrt{- \\left(\\Delta t^{2} g - 2\\right) \\left(\\Delta t^{2} g + 2\\right)}}{4} - \\frac{1}{2}$"
      ],
      "text/plain": [
       "Eq(\\lambda_3, -\\Delta t**2*g/4 - sqrt(-(\\Delta t**2*g - 2)*(\\Delta t**2*g + 2))/4 - 1/2)"
      ]
     },
     "metadata": {},
     "output_type": "display_data"
    },
    {
     "name": "stdout",
     "output_type": "stream",
     "text": [
      "Solution 2\n"
     ]
    },
    {
     "data": {
      "text/latex": [
       "$\\displaystyle \\lambda_{1} = - \\frac{\\Delta t^{2} g}{2} + \\frac{\\sqrt{- \\Delta t^{4} g^{2} + 4}}{2} - 1$"
      ],
      "text/plain": [
       "Eq(\\lambda_1, -\\Delta t**2*g/2 + sqrt(-\\Delta t**4*g**2 + 4)/2 - 1)"
      ]
     },
     "metadata": {},
     "output_type": "display_data"
    },
    {
     "data": {
      "text/latex": [
       "$\\displaystyle \\lambda_{2} = \\frac{3 \\Delta t^{2} g}{2} - \\frac{\\sqrt{- \\Delta t^{4} g^{2} + 4}}{2} + 1$"
      ],
      "text/plain": [
       "Eq(\\lambda_2, 3*\\Delta t**2*g/2 - sqrt(-\\Delta t**4*g**2 + 4)/2 + 1)"
      ]
     },
     "metadata": {},
     "output_type": "display_data"
    },
    {
     "data": {
      "text/latex": [
       "$\\displaystyle \\lambda_{3} = - \\frac{\\Delta t^{2} g}{4} + \\frac{\\sqrt{- \\left(\\Delta t^{2} g - 2\\right) \\left(\\Delta t^{2} g + 2\\right)}}{4} - \\frac{1}{2}$"
      ],
      "text/plain": [
       "Eq(\\lambda_3, -\\Delta t**2*g/4 + sqrt(-(\\Delta t**2*g - 2)*(\\Delta t**2*g + 2))/4 - 1/2)"
      ]
     },
     "metadata": {},
     "output_type": "display_data"
    }
   ],
   "source": [
    "for i in range(len(res)):\n",
    "\tprint(f\"Solution {i+1}\")\n",
    "\tfor j in range(len(lam_eles)):\n",
    "\t\tdisplay(Eq(lam_eles[j], res[i][j], evaluation=False))"
   ]
  },
  {
   "cell_type": "code",
   "execution_count": 160,
   "metadata": {},
   "outputs": [
    {
     "data": {
      "text/latex": [
       "$\\displaystyle \\left[\\begin{matrix}- \\frac{\\Delta t^{2} g}{2} - \\frac{\\sqrt{- \\Delta t^{4} g^{2} + 4}}{2} - 1\\\\\\frac{3 \\Delta t^{2} g}{2} + \\frac{\\sqrt{- \\Delta t^{4} g^{2} + 4}}{2} + 1\\\\- \\frac{\\Delta t^{2} g}{4} - \\frac{\\sqrt{- \\left(\\Delta t^{2} g - 2\\right) \\left(\\Delta t^{2} g + 2\\right)}}{4} - \\frac{1}{2}\\end{matrix}\\right]$"
      ],
      "text/plain": [
       "Matrix([\n",
       "[                     -\\Delta t**2*g/2 - sqrt(-\\Delta t**4*g**2 + 4)/2 - 1],\n",
       "[                    3*\\Delta t**2*g/2 + sqrt(-\\Delta t**4*g**2 + 4)/2 + 1],\n",
       "[-\\Delta t**2*g/4 - sqrt(-(\\Delta t**2*g - 2)*(\\Delta t**2*g + 2))/4 - 1/2]])"
      ]
     },
     "metadata": {},
     "output_type": "display_data"
    },
    {
     "name": "stdout",
     "output_type": "stream",
     "text": [
      "\\left[\\begin{matrix}- \\frac{\\Delta t^{2} g}{2} - \\frac{\\sqrt{- \\Delta t^{4} g^{2} + 4}}{2} - 1\\\\\\frac{3 \\Delta t^{2} g}{2} + \\frac{\\sqrt{- \\Delta t^{4} g^{2} + 4}}{2} + 1\\\\- \\frac{\\Delta t^{2} g}{4} - \\frac{\\sqrt{- \\left(\\Delta t^{2} g - 2\\right) \\left(\\Delta t^{2} g + 2\\right)}}{4} - \\frac{1}{2}\\end{matrix}\\right]\n"
     ]
    }
   ],
   "source": [
    "lam_val = Matrix(res[0])\n",
    "display(lam_val)\n",
    "print(latex(lam_val))"
   ]
  },
  {
   "cell_type": "code",
   "execution_count": 161,
   "metadata": {},
   "outputs": [
    {
     "data": {
      "text/latex": [
       "$\\displaystyle \\left[\\begin{matrix}0\\\\\\Delta t^{2} g\\\\- \\frac{\\Delta t^{2} g}{2} - \\frac{\\sqrt{- \\Delta t^{4} g^{2} + 4}}{2} - 1\\\\\\frac{\\Delta t^{2} g}{2} + \\frac{\\sqrt{- \\Delta t^{4} g^{2} + 4}}{2} + 1\\end{matrix}\\right]$"
      ],
      "text/plain": [
       "Matrix([\n",
       "[                                                   0],\n",
       "[                                       \\Delta t**2*g],\n",
       "[-\\Delta t**2*g/2 - sqrt(-\\Delta t**4*g**2 + 4)/2 - 1],\n",
       "[ \\Delta t**2*g/2 + sqrt(-\\Delta t**4*g**2 + 4)/2 + 1]])"
      ]
     },
     "execution_count": 161,
     "metadata": {},
     "output_type": "execute_result"
    }
   ],
   "source": [
    "dq = M.inv() * J_C.T * lam_val\n",
    "dq = simplify(ReplaceValue(dq))\n",
    "dq"
   ]
  },
  {
   "cell_type": "code",
   "execution_count": 162,
   "metadata": {},
   "outputs": [
    {
     "data": {
      "text/latex": [
       "$\\displaystyle \\left[\\begin{matrix}0\\\\0\\\\- \\frac{\\Delta t^{2} g}{2} - \\frac{\\sqrt{- \\Delta t^{4} g^{2} + 4}}{2}\\\\- \\frac{\\Delta t^{2} g}{2} + \\frac{\\sqrt{- \\Delta t^{4} g^{2} + 4}}{2}\\end{matrix}\\right]$"
      ],
      "text/plain": [
       "Matrix([\n",
       "[                                               0],\n",
       "[                                               0],\n",
       "[-\\Delta t**2*g/2 - sqrt(-\\Delta t**4*g**2 + 4)/2],\n",
       "[-\\Delta t**2*g/2 + sqrt(-\\Delta t**4*g**2 + 4)/2]])"
      ]
     },
     "metadata": {},
     "output_type": "display_data"
    },
    {
     "name": "stdout",
     "output_type": "stream",
     "text": [
      "\\left[\\begin{matrix}0\\\\0\\\\- \\frac{\\Delta t^{2} g}{2} - \\frac{\\sqrt{- \\Delta t^{4} g^{2} + 4}}{2}\\\\- \\frac{\\Delta t^{2} g}{2} + \\frac{\\sqrt{- \\Delta t^{4} g^{2} + 4}}{2}\\end{matrix}\\right]\n"
     ]
    }
   ],
   "source": [
    "q_next = ReplaceValue(q_star) + dq\n",
    "display(q_next)\n",
    "print(latex(q_next))"
   ]
  },
  {
   "cell_type": "code",
   "execution_count": 163,
   "metadata": {},
   "outputs": [
    {
     "data": {
      "text/latex": [
       "$\\displaystyle \\left[\\begin{matrix}0\\\\0\\\\-1.0000049999875\\\\0.9999949999875\\end{matrix}\\right]$"
      ],
      "text/plain": [
       "Matrix([\n",
       "[               0],\n",
       "[               0],\n",
       "[-1.0000049999875],\n",
       "[ 0.9999949999875]])"
      ]
     },
     "metadata": {},
     "output_type": "display_data"
    },
    {
     "name": "stdout",
     "output_type": "stream",
     "text": [
      "\\left[\\begin{matrix}0\\\\0\\\\-1.0000049999875\\\\0.9999949999875\\end{matrix}\\right]\n"
     ]
    }
   ],
   "source": [
    "temp = q_next.subs(dt, 0.001).subs(g, 10)\n",
    "display(temp)\n",
    "print(latex(temp))"
   ]
  }
 ],
 "metadata": {
  "kernelspec": {
   "display_name": "Python 3",
   "language": "python",
   "name": "python3"
  },
  "language_info": {
   "codemirror_mode": {
    "name": "ipython",
    "version": 3
   },
   "file_extension": ".py",
   "mimetype": "text/x-python",
   "name": "python",
   "nbconvert_exporter": "python",
   "pygments_lexer": "ipython3",
   "version": "3.10.7"
  },
  "orig_nbformat": 4
 },
 "nbformat": 4,
 "nbformat_minor": 2
}
