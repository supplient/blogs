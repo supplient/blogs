{
 "cells": [
  {
   "cell_type": "code",
   "execution_count": 1,
   "metadata": {},
   "outputs": [],
   "source": [
    "import sympy"
   ]
  },
  {
   "cell_type": "code",
   "execution_count": 2,
   "metadata": {},
   "outputs": [
    {
     "data": {
      "text/latex": [
       "$\\displaystyle \\left[\\begin{matrix}a^{1}_{A}\\\\a^{2}_{A}\\\\a^{1}_{B}\\\\a^{2}_{B}\\end{matrix}\\right]$"
      ],
      "text/plain": [
       "Matrix([\n",
       "[a_A^1],\n",
       "[a_A^2],\n",
       "[a_B^1],\n",
       "[a_B^2]])"
      ]
     },
     "metadata": {},
     "output_type": "display_data"
    },
    {
     "data": {
      "text/latex": [
       "$\\displaystyle \\left[\\begin{matrix}m_{A} & 0 & 0 & 0\\\\0 & m_{A} & 0 & 0\\\\0 & 0 & m_{B} & 0\\\\0 & 0 & 0 & m_{B}\\end{matrix}\\right]$"
      ],
      "text/plain": [
       "Matrix([\n",
       "[m_A,   0,   0,   0],\n",
       "[  0, m_A,   0,   0],\n",
       "[  0,   0, m_B,   0],\n",
       "[  0,   0,   0, m_B]])"
      ]
     },
     "metadata": {},
     "output_type": "display_data"
    },
    {
     "data": {
      "text/latex": [
       "$\\displaystyle \\left[\\begin{matrix}0\\\\- g\\\\0\\\\- g\\end{matrix}\\right]$"
      ],
      "text/plain": [
       "Matrix([\n",
       "[ 0],\n",
       "[-g],\n",
       "[ 0],\n",
       "[-g]])"
      ]
     },
     "metadata": {},
     "output_type": "display_data"
    },
    {
     "data": {
      "text/latex": [
       "$\\displaystyle \\left[\\begin{matrix}F^{1}_{A}\\\\F^{2}_{A}\\\\F^{1}_{B}\\\\F^{2}_{B}\\end{matrix}\\right]$"
      ],
      "text/plain": [
       "Matrix([\n",
       "[F_A^1],\n",
       "[F_A^2],\n",
       "[F_B^1],\n",
       "[F_B^2]])"
      ]
     },
     "metadata": {},
     "output_type": "display_data"
    }
   ],
   "source": [
    "a_Ax, a_Ay, a_Bx, a_By = sympy.symbols(\"a_A^1 a_A^2 a_B^1 a_B^2\")\n",
    "a_eles = [a_Ax, a_Ay, a_Bx, a_By]\n",
    "a = sympy.Matrix(a_eles)\n",
    "display(a)\n",
    "m_A, m_B = sympy.symbols(\"m_A m_B\")\n",
    "M = sympy.diag(*[m_A, m_A, m_B, m_B])\n",
    "display(M)\n",
    "F_E, g = sympy.symbols(\"F_E g\")\n",
    "F_E = sympy.Matrix([0, -g, 0, -g])\n",
    "display(F_E)\n",
    "F_C_Ax, F_C_Ay, F_C_Bx, F_C_By = sympy.symbols(\"F_A^1 F_A^2 F_B^1 F_B^2\")\n",
    "F_C_eles = [F_C_Ax, F_C_Ay, F_C_Bx, F_C_By]\n",
    "F_C = sympy.Matrix(F_C_eles)\n",
    "display(F_C)"
   ]
  },
  {
   "cell_type": "code",
   "execution_count": 3,
   "metadata": {},
   "outputs": [
    {
     "data": {
      "text/latex": [
       "$\\displaystyle \\left[\\begin{matrix}x_{A}\\\\y_{A}\\\\\\left(- x_{A} + x_{B}\\right)^{2} + \\left(- y_{A} + y_{B}\\right)^{2}\\end{matrix}\\right]$"
      ],
      "text/plain": [
       "Matrix([\n",
       "[                              x_A],\n",
       "[                              y_A],\n",
       "[(-x_A + x_B)**2 + (-y_A + y_B)**2]])"
      ]
     },
     "metadata": {},
     "output_type": "display_data"
    },
    {
     "data": {
      "text/latex": [
       "$\\displaystyle \\left[\\begin{matrix}\\lambda_{1}\\\\\\lambda_{2}\\\\\\lambda_{3}\\end{matrix}\\right]$"
      ],
      "text/plain": [
       "Matrix([\n",
       "[\\lambda_1],\n",
       "[\\lambda_2],\n",
       "[\\lambda_3]])"
      ]
     },
     "metadata": {},
     "output_type": "display_data"
    }
   ],
   "source": [
    "x_A, y_A, x_B, y_B = sympy.symbols(\"x_A y_A x_B y_B\")\n",
    "C = sympy.Matrix([x_A, y_A, (x_B-x_A)*(x_B-x_A) + (y_B-y_A)*(y_B-y_A)])\n",
    "display(C)\n",
    "\n",
    "lam_eles = sympy.symbols(f\"\\lambda_1:{C.shape[0]+1}\")\n",
    "lam = sympy.Matrix(lam_eles)\n",
    "display(lam)"
   ]
  },
  {
   "cell_type": "code",
   "execution_count": 4,
   "metadata": {},
   "outputs": [
    {
     "data": {
      "text/latex": [
       "$\\displaystyle \\left[\\begin{matrix}1 & 0 & 0 & 0\\\\0 & 1 & 0 & 0\\\\2 x_{A} - 2 x_{B} & 2 y_{A} - 2 y_{B} & - 2 x_{A} + 2 x_{B} & - 2 y_{A} + 2 y_{B}\\end{matrix}\\right]$"
      ],
      "text/plain": [
       "Matrix([\n",
       "[            1,             0,              0,              0],\n",
       "[            0,             1,              0,              0],\n",
       "[2*x_A - 2*x_B, 2*y_A - 2*y_B, -2*x_A + 2*x_B, -2*y_A + 2*y_B]])"
      ]
     },
     "execution_count": 4,
     "metadata": {},
     "output_type": "execute_result"
    }
   ],
   "source": [
    "q = sympy.Matrix([x_A, y_A, x_B, y_B])\n",
    "J = C.jacobian(q)\n",
    "\n",
    "J"
   ]
  },
  {
   "cell_type": "code",
   "execution_count": 5,
   "metadata": {},
   "outputs": [
    {
     "name": "stdout",
     "output_type": "stream",
     "text": [
      "\\left[\\begin{matrix}1 & 0 & 0 & 0\\\\0 & 1 & 0 & 0\\\\2 x_{A} - 2 x_{B} & 2 y_{A} - 2 y_{B} & - 2 x_{A} + 2 x_{B} & - 2 y_{A} + 2 y_{B}\\end{matrix}\\right]\n"
     ]
    }
   ],
   "source": [
    "print(sympy.latex(J))"
   ]
  },
  {
   "cell_type": "code",
   "execution_count": 6,
   "metadata": {},
   "outputs": [
    {
     "data": {
      "text/latex": [
       "$\\displaystyle \\left[\\begin{matrix}a^{1}_{A}\\\\a^{2}_{A}\\\\2 \\left(- a^{1}_{A} + a^{1}_{B}\\right) \\left(- x_{A} + x_{B}\\right) + 2 \\left(- a^{2}_{A} + a^{2}_{B}\\right) \\left(- y_{A} + y_{B}\\right) + 2 \\left(- v^{1}_{A} + v^{1}_{B}\\right)^{2} + 2 \\left(- v^{2}_{A} + v^{2}_{B}\\right)^{2}\\end{matrix}\\right]$"
      ],
      "text/plain": [
       "Matrix([\n",
       "[                                                                                                            a_A^1],\n",
       "[                                                                                                            a_A^2],\n",
       "[2*(-a_A^1 + a_B^1)*(-x_A + x_B) + 2*(-a_A^2 + a_B^2)*(-y_A + y_B) + 2*(-v_A^1 + v_B^1)**2 + 2*(-v_A^2 + v_B^2)**2]])"
      ]
     },
     "execution_count": 6,
     "metadata": {},
     "output_type": "execute_result"
    }
   ],
   "source": [
    "v_Ax, v_Ay, v_Bx, v_By = sympy.symbols(\"v_A^1 v_A^2 v_B^1 v_B^2\")\n",
    "dd_C = sympy.Matrix([\n",
    "\ta_Ax,\n",
    "    a_Ay,\n",
    "\t2*(\n",
    "\t\t(v_Bx - v_Ax) * (v_Bx - v_Ax) +\n",
    "\t\t(v_By - v_Ay) * (v_By - v_Ay) +\n",
    "\t\t(x_B - x_A) * (a_Bx - a_Ax) + \n",
    "\t\t(y_B - y_A) * (a_By - a_Ay)\n",
    "\t)\n",
    "])\n",
    "dd_C"
   ]
  },
  {
   "cell_type": "code",
   "execution_count": 7,
   "metadata": {},
   "outputs": [
    {
     "data": {
      "text/latex": [
       "$\\displaystyle \\left[\\begin{matrix}a^{1}_{A}\\\\a^{2}_{A}\\\\2 \\left(- a^{1}_{A} + a^{1}_{B}\\right) \\left(- x_{A} + x_{B}\\right) + 2 \\left(- a^{2}_{A} + a^{2}_{B}\\right) \\left(- y_{A} + y_{B}\\right) + 2 \\left(- v^{1}_{A} + v^{1}_{B}\\right)^{2} + 2 \\left(- v^{2}_{A} + v^{2}_{B}\\right)^{2}\\end{matrix}\\right] = \\left[\\begin{matrix}0\\\\0\\\\0\\end{matrix}\\right]$"
      ],
      "text/plain": [
       "Eq(Matrix([\n",
       "[                                                                                                            a_A^1],\n",
       "[                                                                                                            a_A^2],\n",
       "[2*(-a_A^1 + a_B^1)*(-x_A + x_B) + 2*(-a_A^2 + a_B^2)*(-y_A + y_B) + 2*(-v_A^1 + v_B^1)**2 + 2*(-v_A^2 + v_B^2)**2]]), Matrix([\n",
       "[0],\n",
       "[0],\n",
       "[0]]))"
      ]
     },
     "metadata": {},
     "output_type": "display_data"
    },
    {
     "data": {
      "text/latex": [
       "$\\displaystyle \\left[\\begin{matrix}F^{1}_{A}\\\\F^{2}_{A}\\\\F^{1}_{B}\\\\F^{2}_{B}\\end{matrix}\\right] = \\left[\\begin{matrix}\\lambda_{1} + \\lambda_{3} \\cdot \\left(2 x_{A} - 2 x_{B}\\right)\\\\\\lambda_{2} + \\lambda_{3} \\cdot \\left(2 y_{A} - 2 y_{B}\\right)\\\\\\lambda_{3} \\left(- 2 x_{A} + 2 x_{B}\\right)\\\\\\lambda_{3} \\left(- 2 y_{A} + 2 y_{B}\\right)\\end{matrix}\\right]$"
      ],
      "text/plain": [
       "Eq(Matrix([\n",
       "[F_A^1],\n",
       "[F_A^2],\n",
       "[F_B^1],\n",
       "[F_B^2]]), Matrix([\n",
       "[\\lambda_1 + \\lambda_3*(2*x_A - 2*x_B)],\n",
       "[\\lambda_2 + \\lambda_3*(2*y_A - 2*y_B)],\n",
       "[           \\lambda_3*(-2*x_A + 2*x_B)],\n",
       "[           \\lambda_3*(-2*y_A + 2*y_B)]]))"
      ]
     },
     "metadata": {},
     "output_type": "display_data"
    },
    {
     "data": {
      "text/latex": [
       "$\\displaystyle \\left[\\begin{matrix}F^{1}_{A}\\\\F^{2}_{A} - g\\\\F^{1}_{B}\\\\F^{2}_{B} - g\\end{matrix}\\right] = \\left[\\begin{matrix}a^{1}_{A} m_{A}\\\\a^{2}_{A} m_{A}\\\\a^{1}_{B} m_{B}\\\\a^{2}_{B} m_{B}\\end{matrix}\\right]$"
      ],
      "text/plain": [
       "Eq(Matrix([\n",
       "[    F_A^1],\n",
       "[F_A^2 - g],\n",
       "[    F_B^1],\n",
       "[F_B^2 - g]]), Matrix([\n",
       "[a_A^1*m_A],\n",
       "[a_A^2*m_A],\n",
       "[a_B^1*m_B],\n",
       "[a_B^2*m_B]]))"
      ]
     },
     "metadata": {},
     "output_type": "display_data"
    }
   ],
   "source": [
    "cond1 = sympy.Eq(dd_C, sympy.Matrix([0]*dd_C.shape[0]))\n",
    "cond2 = sympy.Eq(F_C, sympy.Transpose(J) * lam)\n",
    "motion_equ = sympy.Eq(F_C + F_E, M * a)\n",
    "\n",
    "system = [cond1, cond2, motion_equ]\n",
    "for equ in system:\n",
    "\tdisplay(equ)"
   ]
  },
  {
   "cell_type": "code",
   "execution_count": 8,
   "metadata": {},
   "outputs": [],
   "source": [
    "import sympy.solvers\n",
    "unknowns = [*lam_eles, *F_C_eles, *a_eles]\n",
    "res = sympy.solvers.solve(system, *unknowns)"
   ]
  },
  {
   "cell_type": "code",
   "execution_count": 9,
   "metadata": {},
   "outputs": [
    {
     "data": {
      "text/latex": [
       "$\\displaystyle \\lambda_{1} = - \\frac{g}{2}$"
      ],
      "text/plain": [
       "Eq(\\lambda_1, -g/2)"
      ]
     },
     "metadata": {},
     "output_type": "display_data"
    },
    {
     "data": {
      "text/latex": [
       "$\\displaystyle \\lambda_{2} = \\frac{3 g}{2}$"
      ],
      "text/plain": [
       "Eq(\\lambda_2, 3*g/2)"
      ]
     },
     "metadata": {},
     "output_type": "display_data"
    },
    {
     "data": {
      "text/latex": [
       "$\\displaystyle \\lambda_{3} = - \\frac{g}{4}$"
      ],
      "text/plain": [
       "Eq(\\lambda_3, -g/4)"
      ]
     },
     "metadata": {},
     "output_type": "display_data"
    },
    {
     "data": {
      "text/latex": [
       "$\\displaystyle F^{1}_{A} = 0$"
      ],
      "text/plain": [
       "Eq(F_A^1, 0)"
      ]
     },
     "metadata": {},
     "output_type": "display_data"
    },
    {
     "data": {
      "text/latex": [
       "$\\displaystyle F^{2}_{A} = g$"
      ],
      "text/plain": [
       "Eq(F_A^2, g)"
      ]
     },
     "metadata": {},
     "output_type": "display_data"
    },
    {
     "data": {
      "text/latex": [
       "$\\displaystyle F^{1}_{B} = - \\frac{g}{2}$"
      ],
      "text/plain": [
       "Eq(F_B^1, -g/2)"
      ]
     },
     "metadata": {},
     "output_type": "display_data"
    },
    {
     "data": {
      "text/latex": [
       "$\\displaystyle F^{2}_{B} = \\frac{g}{2}$"
      ],
      "text/plain": [
       "Eq(F_B^2, g/2)"
      ]
     },
     "metadata": {},
     "output_type": "display_data"
    },
    {
     "data": {
      "text/latex": [
       "$\\displaystyle a^{1}_{A} = 0$"
      ],
      "text/plain": [
       "Eq(a_A^1, 0)"
      ]
     },
     "metadata": {},
     "output_type": "display_data"
    },
    {
     "data": {
      "text/latex": [
       "$\\displaystyle a^{2}_{A} = 0$"
      ],
      "text/plain": [
       "Eq(a_A^2, 0)"
      ]
     },
     "metadata": {},
     "output_type": "display_data"
    },
    {
     "data": {
      "text/latex": [
       "$\\displaystyle a^{1}_{B} = - \\frac{g}{2}$"
      ],
      "text/plain": [
       "Eq(a_B^1, -g/2)"
      ]
     },
     "metadata": {},
     "output_type": "display_data"
    },
    {
     "data": {
      "text/latex": [
       "$\\displaystyle a^{2}_{B} = - \\frac{g}{2}$"
      ],
      "text/plain": [
       "Eq(a_B^2, -g/2)"
      ]
     },
     "metadata": {},
     "output_type": "display_data"
    }
   ],
   "source": [
    "for item in unknowns:\n",
    "\tvalue = res[item]\n",
    "\tvalue_pair = [\n",
    "\t\t(x_A, 0),\n",
    "\t\t(y_A, 0),\n",
    "\t\t(x_B, 1),\n",
    "\t\t(y_B, -1),\n",
    "\t\t(v_Ax, 0),\n",
    "\t\t(v_Ay, 0),\n",
    "\t\t(v_Bx, 0),\n",
    "\t\t(v_By, 0),\n",
    "\t\t(m_A, 1),\n",
    "\t\t(m_B, 1),\n",
    "\t]\n",
    "\tfor p in value_pair:\n",
    "\t\tvalue = value.subs(*p)\n",
    "\tdisplay(sympy.Eq(item, value, evaluate=False))"
   ]
  }
 ],
 "metadata": {
  "kernelspec": {
   "display_name": "Python 3",
   "language": "python",
   "name": "python3"
  },
  "language_info": {
   "codemirror_mode": {
    "name": "ipython",
    "version": 3
   },
   "file_extension": ".py",
   "mimetype": "text/x-python",
   "name": "python",
   "nbconvert_exporter": "python",
   "pygments_lexer": "ipython3",
   "version": "3.10.7"
  },
  "orig_nbformat": 4
 },
 "nbformat": 4,
 "nbformat_minor": 2
}
